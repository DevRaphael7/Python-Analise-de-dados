{
 "cells": [
  {
   "cell_type": "markdown",
   "metadata": {
    "id": "Nb7vTAlwzMEY"
   },
   "source": [
    "### **Python para Analise de dados**\n",
    "\n",
    "O Numpy é uma biblioteca que nos permite programa com Arrays unidimensionais e multidimensionais, além de muitas outras funções para trabalhar com números decimais, geração de números aleatórios, etc...\n",
    "\n",
    "Para usar a biblioteca Numpy devemos primeiro importar a biblioteca, fazemos isso usando a palavra reservada import, assim: \n",
    "\n"
   ]
  },
  {
   "cell_type": "code",
   "execution_count": 2,
   "metadata": {
    "id": "JKrKsIepUZD7"
   },
   "outputs": [],
   "source": [
    "import numpy as np\n",
    "\n"
   ]
  },
  {
   "cell_type": "markdown",
   "metadata": {
    "id": "P9zgxFAz24MT"
   },
   "source": [
    "O as é uma palavra reservada para atribuir um apelido a biblioteca.\n",
    "\n",
    "Para criar um Array no Numpy primeiro crio uma variável, em seguida atribuo seus elementos dentro de colchetes, cada elemento é separado pela vírgula. Perceba que o Array(data1_Mu) abaixo tem dois grupos de elementos entre colchetes, esse Array é multidimensional por ter duas dimensões, é um Array unidimensional quando só há uma dimensão.\n"
   ]
  },
  {
   "cell_type": "code",
   "execution_count": 3,
   "metadata": {
    "id": "RjDiA5qd3dd1"
   },
   "outputs": [],
   "source": [
    "#Array de uma dimensão\n",
    "data1_Un = [2, 4, 6]\n",
    "\n",
    "#Array de duas dimensões\n",
    "data1_Mu = [2, 4, 6], [8, 10, 12]"
   ]
  },
  {
   "cell_type": "markdown",
   "metadata": {
    "id": "TDbqhkRn9DLX"
   },
   "source": [
    "## **Ndarray**\n",
    "O ndarray é um dos principais recursos disponibilizado pela biblioteca Numpy que permite armazenar uma grande quantidade de dados em um só contêiner. O código abaixo nos mostra como criar um ndarray usando a função array( ) da biblioteca numpy. Observe que a função array( ) do numpy aceita qualquer tipo de código, incluindo outro array que deve ser colocado dentro de seu parâmetro:"
   ]
  },
  {
   "cell_type": "code",
   "execution_count": 4,
   "metadata": {
    "colab": {
     "base_uri": "https://localhost:8080/"
    },
    "id": "TzPOfTKz2qMM",
    "outputId": "c205e96a-8943-4121-c64c-d61a865b0e78"
   },
   "outputs": [
    {
     "name": "stdout",
     "output_type": "stream",
     "text": [
      "[[ 2  4  6]\n",
      " [ 8 10 12]]\n",
      "\n",
      " [14 16]\n"
     ]
    }
   ],
   "source": [
    "data1 = [2, 4, 6], [8, 10, 12]\n",
    "\n",
    "pares = np.array(data1)\n",
    "\n",
    "print(pares)\n",
    "\n",
    "#Para criar um array diretamente na função array( ) é só usar os colchetes.\n",
    "pares = np.array([14, 16])\n",
    "\n",
    "print(\"\\n\", pares)\n",
    "\n"
   ]
  },
  {
   "cell_type": "markdown",
   "metadata": {
    "id": "THOAJu6p-CGn"
   },
   "source": [
    "As funções shape( ) e ndim( ) nos retorna o tamanho de um Array. Shape nos retorna o número de elementos deste Array e o número de dimensões, enquanto Ndim nos retorna apenas o número de dimensões(linhas)."
   ]
  },
  {
   "cell_type": "code",
   "execution_count": 5,
   "metadata": {
    "colab": {
     "base_uri": "https://localhost:8080/"
    },
    "id": "la1LVZqw_tqA",
    "outputId": "9f57e801-dccc-480f-8c77-85b9fa6f3b25"
   },
   "outputs": [
    {
     "name": "stdout",
     "output_type": "stream",
     "text": [
      "(2, 4)\n",
      "2\n"
     ]
    }
   ],
   "source": [
    "#Funções que retornam o tamanho dos Arrays\n",
    "data2 = np.array([[3, 3, 3, 6], [4, 5, 6,7]])\n",
    "#(Linhas, Colunas)\n",
    "print(data2.shape)\n",
    "#(Linhas)\n",
    "print(data2.ndim)"
   ]
  },
  {
   "cell_type": "markdown",
   "metadata": {
    "id": "z_EbJXpwMwrr"
   },
   "source": [
    "## Arrays com números aleatórios\n",
    "\n",
    "A biblioteca numpy também nos permite criar conjunto de dados aleatórios. Para isso temos as funções: arange( ), zeros( ), ones( ), random.rand( ) e empty( ). O arange nos permite criar arrays unidimensionais, e valor colocado entre parêntes será a quantidade de elementos alocáveis dentre deste Array."
   ]
  },
  {
   "cell_type": "code",
   "execution_count": 6,
   "metadata": {
    "colab": {
     "base_uri": "https://localhost:8080/"
    },
    "id": "MtgDt0JtNWjp",
    "outputId": "7a3eaced-d869-43d7-a2b6-5293f351f6b2"
   },
   "outputs": [
    {
     "name": "stdout",
     "output_type": "stream",
     "text": [
      "[0. 0. 0. 0. 0. 0. 0. 0. 0. 0.]\n",
      "[1. 1. 1. 1. 1. 1. 1. 1. 1. 1.]\n",
      "[1. 1. 1. 1. 1. 1. 1. 1. 1. 1.]\n",
      "\n",
      " [[0. 0. 0.]\n",
      " [0. 0. 0.]]\n",
      "\n",
      " [[1. 1. 1. 1.]\n",
      " [1. 1. 1. 1.]\n",
      " [1. 1. 1. 1.]\n",
      " [1. 1. 1. 1.]]\n",
      "\n",
      " [[[0. 0.]\n",
      "  [0. 0.]\n",
      "  [0. 0.]\n",
      "  [0. 0.]]\n",
      "\n",
      " [[0. 0.]\n",
      "  [0. 0.]\n",
      "  [0. 0.]\n",
      "  [0. 0.]]\n",
      "\n",
      " [[0. 0.]\n",
      "  [0. 0.]\n",
      "  [0. 0.]\n",
      "  [0. 0.]]\n",
      "\n",
      " [[0. 0.]\n",
      "  [0. 0.]\n",
      "  [0. 0.]\n",
      "  [0. 0.]]]\n"
     ]
    }
   ],
   "source": [
    "#O zeros( ) e ones( ) criam arrays de 0 e 1\n",
    "zeros_a = np.zeros(10)\n",
    "print(zeros_a)\n",
    "\n",
    "ones_a = np.ones(10)\n",
    "print(ones_a)\n",
    "\n",
    "#O empty( ) cria Array vazio, em alguns casos esses arrays não retornam\n",
    "#zeros, mas o \"lixo\" não inicializados poderão ser devolvidos.\n",
    "\n",
    "vazio = np.empty((10))\n",
    "print(vazio)\n",
    "\n",
    "#Com essas funções podemos criar arrays bidimensionais colocando mais de um\n",
    "#argumento entre os parênteses\n",
    "\n",
    "zeros_a = np.zeros((2, 3))\n",
    "ones_a = np.ones((4, 4))\n",
    "vazio = np.empty((4, 4, 2))\n",
    "print(\"\\n\", zeros_a)\n",
    "print(\"\\n\", ones_a)\n",
    "print(\"\\n\", vazio)"
   ]
  },
  {
   "cell_type": "markdown",
   "metadata": {
    "id": "6ECgfVRHPhgp"
   },
   "source": [
    "# **arange( )**"
   ]
  },
  {
   "cell_type": "code",
   "execution_count": 7,
   "metadata": {
    "colab": {
     "base_uri": "https://localhost:8080/"
    },
    "id": "FJvKv8UZPmsD",
    "outputId": "e7f2547f-1c60-498c-ba35-66a3df60a654"
   },
   "outputs": [
    {
     "name": "stdout",
     "output_type": "stream",
     "text": [
      "[0 1 2 3 4 5 6 7 8 9]\n"
     ]
    }
   ],
   "source": [
    "#Unidimensional\n",
    "aleatorio = np.arange(10)\n",
    "print(aleatorio)\n"
   ]
  },
  {
   "cell_type": "markdown",
   "metadata": {
    "id": "YulTGHsZQsoU"
   },
   "source": [
    "## **Operações Aritméticas entre Arrays**\n",
    "\n",
    "1)Multiplicar os Arrays por um número qualquer\n",
    "\n",
    "2)Soma e subtração entre um Array e um número qualquer\n",
    "\n",
    "3)Divisão de um Array por um número qualquer\n",
    "\n",
    "4)Potenciação com array\n",
    "\n",
    "5)Operações aritméticas entre mais de um Array"
   ]
  },
  {
   "cell_type": "code",
   "execution_count": 8,
   "metadata": {
    "colab": {
     "base_uri": "https://localhost:8080/"
    },
    "id": "BeWzf4X4Qybm",
    "outputId": "7d6c0e8b-a686-4a1d-d35d-7c43752e2584"
   },
   "outputs": [
    {
     "name": "stdout",
     "output_type": "stream",
     "text": [
      "M: [15 21 24]\n",
      "M: [25 35 40]\n",
      "\n",
      "A: [ 9 11 12]\n",
      "S: [ 9 11 12]\n",
      "\n",
      "D: [2.5 3.5 4. ]\n",
      "D: [1.  1.4 1.6]\n",
      "\n",
      "Exp: [25 49 64]\n",
      "Exp: [125 343 512]\n",
      "\n",
      "SOMA: [10 13 17]\n",
      "SUBTRAÇÃO: [ 0  1 -1]\n",
      "MULTIPLICAÇÃO: [25 42 72]\n",
      "DIVISÃO: [1.         1.16666667 0.88888889]\n"
     ]
    }
   ],
   "source": [
    "data3  = np.array([5, 7, 8])\n",
    "\n",
    "#Multiplicando meu Array por números inteiros\n",
    "\n",
    "print(\"M:\", data3 * 3) # Os elementos do array são todos multiplicados por três\n",
    "print(\"M:\", data3 * 5) # Os elementos do array são todos multiplicados por cinco\n",
    "\n",
    "#Soma e Subtração de Arrays por números inteiros\n",
    "\n",
    "print(\"\\nA:\", data3 + 4)# Os elementos do array são todos somados com quatro\n",
    "print(\"S:\", data3 + 4)# Os elementos do array são todos subtraídos por quatro\n",
    "\n",
    "#Divisão de um Array por um número inteiro\n",
    "\n",
    "print(\"\\nD:\", data3 / 2) #Os elementos do array são todos divididos por dois\n",
    "print(\"D:\", data3 / 5) #Os elementos do array são todos divididos por cinco\n",
    "\n",
    "#Potenciação\n",
    "print(\"\\nExp:\", data3 ** 2)#Array elevado ao quadrado\n",
    "print(\"Exp:\", data3 ** 3)#Array elevado ao cubo\n",
    "\n",
    "#Operações com mais de um array\n",
    "\n",
    "data4 = np.array([5, 6, 9])\n",
    "\n",
    "print(\"\\nSOMA:\", data3 + data4)\n",
    "print(\"SUBTRAÇÃO:\", data3 - data4)\n",
    "print(\"MULTIPLICAÇÃO:\", data3 * data4)\n",
    "print(\"DIVISÃO:\", data3 / data4)\n"
   ]
  },
  {
   "cell_type": "markdown",
   "metadata": {
    "id": "jGlM8JB3XXIb"
   },
   "source": [
    "## **Comparações entre Arrays**\n",
    "\n",
    "O uso de operadores relacionais com Arrays, resultam em valores booleanos como True e False. Claro que esses Arrays devem estar no mesmo tamanho. Observe que as comparações booleanas compara cada elemento entre ambos os Arrays, também é possível fazer esse procedimento com números naturais.\n",
    "\n",
    "1)Comparações com números naturais\n",
    "\n",
    "2)Comparações entre mais de um Array\n"
   ]
  },
  {
   "cell_type": "code",
   "execution_count": 9,
   "metadata": {
    "colab": {
     "base_uri": "https://localhost:8080/"
    },
    "id": "LFhI4oAvXwBk",
    "outputId": "73130a3a-57ac-4eb4-bc23-9e6a1fba7d90"
   },
   "outputs": [
    {
     "name": "stdout",
     "output_type": "stream",
     "text": [
      "arr1 > 5:  [False  True  True  True]\n",
      "arr2 < 5:  [False  True  True False]\n",
      "\n",
      "arr1 == 10 [False False False False]\n",
      "arr2 != 10 [False  True  True  True]\n",
      "arr2 == 10 [ True False False False]\n",
      "\n",
      "arr1 == arr2 [ True False False  True]\n",
      "arr1 != arr2 [False  True  True False]\n",
      "arr1 > arr2 [False  True  True False]\n",
      "arr1 < arr2 [False False False False]\n"
     ]
    }
   ],
   "source": [
    "arr1 = np.array([5, 7, 8, 9]); arr2 = np.array([5, 3, 2, 9])\n",
    "\n",
    "# -> (>) and (<)\n",
    "\n",
    "print(\"arr1 > 5: \", arr1 > 5) #Compara cada elemento, retornando True e False\n",
    "print(\"arr2 < 5: \", arr2 < 5)\n",
    "\n",
    "# -> (==) and (!=)\n",
    "\n",
    "print(\"\\narr1 == 10\", arr1 == 10)\n",
    "print(\"arr2 != 10\", arr2 != 5)\n",
    "print(\"arr2 == 10\", arr2 == 5)\n",
    "\n",
    "# Comparações booleanas entre Arrays\n",
    "\n",
    "print(\"\\narr1 == arr2\", arr1 == arr2)\n",
    "print(\"arr1 != arr2\", arr1 != arr2)\n",
    "print(\"arr1 > arr2\", arr1 > arr2)\n",
    "print(\"arr1 < arr2\", arr1 < arr2)"
   ]
  },
  {
   "cell_type": "markdown",
   "metadata": {
    "id": "4aLRgWKLaXKR"
   },
   "source": [
    "## **Indexação entre Arrays e Fatiamento(Slice Notation)**\n",
    "\n",
    "Em um alguns momentos vamos precisar fazer consulta em um Array, o problema é quando o Array é exteso e queros consultar apenas um subconjunto ou partes da aquele Array, em suma, quando queremos apenas acessar alguns dados e não todos. Um modo simples de fazer isso em Arrays unidimensionais é usando o slice(fatiamento):"
   ]
  },
  {
   "cell_type": "code",
   "execution_count": 10,
   "metadata": {
    "colab": {
     "base_uri": "https://localhost:8080/"
    },
    "id": "faW7Jd6dbHTt",
    "outputId": "eb64cf55-2aa4-48d3-ec70-8933de002efa"
   },
   "outputs": [
    {
     "name": "stdout",
     "output_type": "stream",
     "text": [
      "14\n",
      "[14 15 34]\n",
      "\n",
      "Os colchetes vazios [:] da fatia fará uma selecão geral de todo Array\n",
      "\n",
      "[14 14 15 34 56 23 46]\n",
      "[14 14]\n"
     ]
    }
   ],
   "source": [
    "# ----> Índice\n",
    "\n",
    "fatia_ex = np.array([14, 14, 15, 34, 56, 23, 46])\n",
    "\n",
    "#Para acessar um elemento de um Array utilizo o seu índice\n",
    "print(fatia_ex[0]) \n",
    "#Veja que obtive o primeiro elemento de meu array, o 14\n",
    "\n",
    "# ----> Slice\n",
    "\n",
    "#Um outro modo de fazer isso é usando o fatiamento, com ele obtemos mais de um elemento de uma só vez\n",
    "print(fatia_ex[1:4])\n",
    "\n",
    "#Observe que o primeiro argumento(1) é o elemento inicial onde vou começar a fatiar\n",
    "#o segundo argumento é o índice final onde vou, até onde eu quero, fatiar\n",
    "\n",
    "print(\"\\nOs colchetes vazios [:] da fatia fará uma selecão geral de todo Array\\n\")\n",
    "print(fatia_ex[:]) #Em numpy, o índice 0 é uma cópia do índice 1 logo:\n",
    "\n",
    "print(fatia_ex[0:2])# Veja que o print( ) imprimiu dois Arrays\n"
   ]
  },
  {
   "cell_type": "markdown",
   "metadata": {
    "id": "0ycsEqdId5Rd"
   },
   "source": [
    "# Acessando linhas e elementos em um Array multidimensional"
   ]
  },
  {
   "cell_type": "code",
   "execution_count": 11,
   "metadata": {
    "colab": {
     "base_uri": "https://localhost:8080/"
    },
    "id": "tJRTGTCcd_pj",
    "outputId": "8bf3d585-9722-43e1-f776-0cea66f9d97a"
   },
   "outputs": [
    {
     "name": "stdout",
     "output_type": "stream",
     "text": [
      "Ex.: [12 34  5  6]\n",
      "\n",
      "Ex.: 5\n"
     ]
    }
   ],
   "source": [
    "#O primeiro argumento entre os colchetes é a linha, o segundo é a coluna, ou índice\n",
    "\n",
    "arr_exMu = np.array([[5, 6, 7, 8], [12, 34, 5, 6]])\n",
    "\n",
    "print(\"Ex.:\", arr_exMu[1])#Acessando linha 1, que é a segunda linha\n",
    "\n",
    "print(\"\\nEx.:\", arr_exMu[1, 2])#Acessando a linha 1 e o índice 3 do Array(R: 5)"
   ]
  },
  {
   "cell_type": "markdown",
   "metadata": {
    "id": "hvAcVPDQggh1"
   },
   "source": [
    "# Indexação com fatiamento\n",
    "\n",
    "Obs.: \n",
    "\n",
    "a) Leia [:2] como \"pegue as duas primeiras linhas da matriz por favor!\";\n",
    "\n",
    "b) Leia [:2, 1:] como, \"pegue as duas primeiras linhas e as colunas a partir da primeira!\", se tivesse colocado [:2, 1: 3] estaria dizendo para pegar as duas primeiras linhas e a coluna 1 até a coluna três."
   ]
  },
  {
   "cell_type": "code",
   "execution_count": 12,
   "metadata": {
    "colab": {
     "base_uri": "https://localhost:8080/"
    },
    "id": "U62VfhbexOqy",
    "outputId": "fad9d85e-f61b-44d1-b408-b5c1039b87bc"
   },
   "outputs": [
    {
     "name": "stdout",
     "output_type": "stream",
     "text": [
      "[4 6 7]\n",
      "1)Selecionar linhas\n",
      "\n",
      " [[5 6 7 8]]\n",
      "\n",
      " [[5 6 7 8]\n",
      " [1 2 3 4]]\n",
      "\n",
      "2)Selecionar a linha e coluna\n",
      "\n",
      " [[8]\n",
      " [4]]\n",
      "\n",
      " [[6 7 8]\n",
      " [2 3 4]]\n",
      "\n",
      " [[6 7]\n",
      " [2 3]]\n",
      "\n",
      " [[5]]\n",
      "\n",
      " [[6 7 8]]\n",
      "\n",
      " [[5 6]\n",
      " [1 2]]\n",
      "\n",
      " [[7 8]\n",
      " [3 4]]\n",
      "\n",
      " [[6 7 8]\n",
      " [2 3 4]\n",
      " [4 5 6]]\n"
     ]
    }
   ],
   "source": [
    "# Fatiando um array unidimensional\n",
    "\n",
    "arr_slice = np.array([4, 6, 7, 8, 9])\n",
    "\n",
    "print(arr_slice[0:3])\n",
    "\n",
    "# Fatiar Array bidimensional\n",
    "\n",
    "print(\"1)Selecionar linhas\")\n",
    "\n",
    "arr_slice = np.array([[5, 6, 7, 8], [1, 2, 3, 4], [3, 4, 5, 6]])\n",
    "\n",
    "print(\"\\n\", arr_slice[:1]) #Observe que aqui estou selecionando a linha do meu Array\n",
    "print(\"\\n\", arr_slice[:2])\n",
    "\n",
    "print(\"\\n2)Selecionar a linha e coluna\")\n",
    "\n",
    "print(\"\\n\", arr_slice[:2, 3:]) #Observe que aqui estou selecionando as duas primeiras linhas e a última coluna\n",
    "print(\"\\n\", arr_slice[:2, 1:])\n",
    "print(\"\\n\", arr_slice[:2, 1:3]) \n",
    "print(\"\\n\", arr_slice[:1, :1])#Selecionar a primeira linha e a primeira coluna \n",
    "print(\"\\n\", arr_slice[:1, 1:])#Selecionar a primeira linha e todas as colunas a partir da primeira\n",
    "print(\"\\n\", arr_slice[:2, : 2])\n",
    "print(\"\\n\", arr_slice[:2, 2: ])#Selecionar as duas primeiras linhas e ás últimas colunas\n",
    "print(\"\\n\", arr_slice[:, 1:4])#Selecionando todas as linhas mas somente a coluna 1 até a 3\n"
   ]
  },
  {
   "cell_type": "markdown",
   "metadata": {
    "id": "kWU-3VwD2Oth"
   },
   "source": [
    "## Indexação booleana\n",
    "\n",
    "Em Numpy é possível fazer uma consulta booleana, por exemplo, imagine que eu tenho um array com nomes como Bob, Julia, Pedro, Thiago, etc... E quisesse buscar o Bob neste Array, posso perfeitamente utilizar o operador de comparação para isso(==), caso o nome Bob for encontrado, será True, senão False. (Obs.: palavras booleanas com AND e OR nunca funcionarão com Arrys booleanos, invés disso, usamos &(AND) e |(OR) em seus lugares)."
   ]
  },
  {
   "cell_type": "code",
   "execution_count": 13,
   "metadata": {
    "colab": {
     "base_uri": "https://localhost:8080/"
    },
    "id": "BJFNY8xV3EkG",
    "outputId": "b28071a0-8287-4d40-9691-e95f149629c2"
   },
   "outputs": [
    {
     "name": "stdout",
     "output_type": "stream",
     "text": [
      "Buscar Bob:  [ True False False False False]\n",
      "Buscar Júlia:  [False  True False False False]\n",
      "Selecionando tudo menos Emma: [False  True  True  True  True]\n",
      "\n",
      " [ True False False False False]\n",
      "\n",
      " [False False False False False]\n",
      "\n",
      " [False False False  True False]\n",
      "\n",
      " [ True False False  True False]\n",
      "\n",
      " ['João' '5' 'João' '5' '5']\n"
     ]
    }
   ],
   "source": [
    "Nomes = np.array(['Bob', 'Júlia', 'João', 'Daniel', 'Pedro'])\n",
    "\n",
    "print(\"Buscar Bob: \", Nomes == 'Bob')\n",
    "print(\"Buscar Júlia: \", Nomes == 'Júlia') #Aqui sei que a júlia está no índice 1, pois o índice um está True.\n",
    "\n",
    "#A indexação booleana não falahará se o array tiver o tamanho correto\n",
    "\n",
    "#é possível selecionar tudo exceto 'Emma' em um Array com !=, veja:\n",
    "\n",
    "Nomes_Two = np.array(['Emma', 'Ray', 'Norman', 'Phil', 'Isabella'])\n",
    "\n",
    "print('Selecionando tudo menos Emma:', Nomes_Two != 'Emma') #Observe que a Emma está como False\n",
    "\n",
    "#É possível estabelecer condições para selecionar um ou mais nomes em um Array com\n",
    "#operadores lógicos, AND(&&) e OU(|)\n",
    "\n",
    "data = (Nomes == 'Bob') & (Nomes_Two == 'Emma')\n",
    "\n",
    "print(\"\\n\", data)\n",
    "\n",
    "data = (Nomes == 'Daniel') & (Nomes_Two == 'Emma')\n",
    "\n",
    "print(\"\\n\", data)\n",
    "\n",
    "data = (Nomes == 'Daniel') & (Nomes_Two == 'Phil')\n",
    "\n",
    "print(\"\\n\", data)\n",
    "\n",
    "data = (Nomes == 'Daniel') | (Nomes_Two == 'Emma')\n",
    "\n",
    "print(\"\\n\", data)\n",
    "\n",
    "#Observe que quando o operador foi &(AND), só retornou True quando ambos elementos \n",
    "#pertencessem a índices iguais em seus respectivos Arrays\n",
    "\n",
    "#Também é possível fazer atribuição com os operadores lógicos em um Array Booleano, veja:\n",
    "\n",
    "Nomes_tree = np.array(['João', 'Maria', 'João', 'Pedro', 'Pedro'])\n",
    "\n",
    "Nomes_tree[Nomes_tree != 'João'] = 5\n",
    "print('\\n', Nomes_tree) #Observe que todos os elementos diferentes de João foram substitídos por 5"
   ]
  },
  {
   "cell_type": "markdown",
   "metadata": {
    "id": "l1_reeVuvnZa"
   },
   "source": [
    "## Substituição de Elementos em Numpy\n",
    "\n",
    "A substituição de um elemento pode ser feita através de uma condicional, ou seja, estabeleçemos condições para substituir um valor ou vários valores. Para isso usamos os colchetes [ expressão lógica ] nas variáveis ou Arrais."
   ]
  },
  {
   "cell_type": "code",
   "execution_count": 14,
   "metadata": {
    "colab": {
     "base_uri": "https://localhost:8080/"
    },
    "id": "NjZKQsypwK6l",
    "outputId": "1fc65db7-887a-4b03-e3ac-9c6f77f6883e"
   },
   "outputs": [
    {
     "name": "stdout",
     "output_type": "stream",
     "text": [
      "[0 2 5 0 8]\n",
      "[ 0 40 40  0 40]\n",
      "[0 5 5 0 5]\n",
      "[ 0 10 10  0 10]\n",
      "[14 14 14 14 14]\n"
     ]
    }
   ],
   "source": [
    "data_subs = np.array([-1, 2, 5, -6, 8])\n",
    "\n",
    "#Veja acima que meu Array tem alguns elementos negativos, imagine a situação \n",
    "#onde queremos substituir todos os valores por 0, para fazer utilizamos uma\n",
    "#expressão lógica.\n",
    "\n",
    "data_subs[data_subs < 0] = 0 \n",
    "#Leia isso como, se um elemento em data_subs for menor que zero, substitua por 0\n",
    "print(data_subs)\n",
    "\n",
    "data_subs[data_subs > 1] = 40\n",
    "print(data_subs)\n",
    "\n",
    "data_subs[data_subs == 40] = 5\n",
    "print(data_subs)\n",
    "\n",
    "data_subs[(data_subs > 1) & (data_subs < 6)] = 10\n",
    "print(data_subs)\n",
    "\n",
    "data_subs[(data_subs > 5) | (data_subs < 12)] = 14\n",
    "print(data_subs)\n",
    "\n"
   ]
  },
  {
   "cell_type": "markdown",
   "metadata": {
    "id": "_cBneTUIyew2"
   },
   "source": [
    "## Reshape"
   ]
  },
  {
   "cell_type": "code",
   "execution_count": 15,
   "metadata": {
    "colab": {
     "base_uri": "https://localhost:8080/"
    },
    "id": "IO9F04fDyhSW",
    "outputId": "2a552919-912c-4493-aa56-4a89d56fb745"
   },
   "outputs": [
    {
     "name": "stdout",
     "output_type": "stream",
     "text": [
      "SEM RESHAPE( )\n",
      " [ 0  1  2  3  4  5  6  7  8  9 10 11 12 13 14 15 16 17 18 19 20 21 22 23\n",
      " 24 25 26 27 28 29 30 31]\n",
      "\n",
      "COM RESHAPE( )\n",
      " [[ 0  1  2  3]\n",
      " [ 4  5  6  7]\n",
      " [ 8  9 10 11]\n",
      " [12 13 14 15]\n",
      " [16 17 18 19]\n",
      " [20 21 22 23]\n",
      " [24 25 26 27]\n",
      " [28 29 30 31]]\n"
     ]
    }
   ],
   "source": [
    "\n",
    "data_teste = np.arange(32)\n",
    "print(\"SEM RESHAPE( )\\n\", data_teste)\n",
    "\n",
    "\n",
    "data_testeTwo = np.arange(32).reshape((8,4))\n",
    "print(\"\\nCOM RESHAPE( )\\n\", data_testeTwo)\n",
    "\n",
    "#Observe que o RESHAPE( ) organiza, ou ordena, um dado array, veja que meu array tem 32\n",
    "#elementos, então o reshape( ) ordenou 8 x 4, conforme escrito nos parâmetros\n"
   ]
  },
  {
   "cell_type": "markdown",
   "metadata": {
    "id": "1lBJ2N4O08ir"
   },
   "source": [
    "## Transpose"
   ]
  },
  {
   "cell_type": "code",
   "execution_count": 16,
   "metadata": {
    "colab": {
     "base_uri": "https://localhost:8080/"
    },
    "id": "6EJFQgXK0-t6",
    "outputId": "899cdaf2-bf47-47b4-d734-7da4949df120"
   },
   "outputs": [
    {
     "name": "stdout",
     "output_type": "stream",
     "text": [
      "[[ 0  1  2  3]\n",
      " [ 4  5  6  7]\n",
      " [ 8  9 10 11]\n",
      " [12 13 14 15]\n",
      " [16 17 18 19]\n",
      " [20 21 22 23]]\n",
      "\n",
      " [[ 0  4  8 12 16 20]\n",
      " [ 1  5  9 13 17 21]\n",
      " [ 2  6 10 14 18 22]\n",
      " [ 3  7 11 15 19 23]]\n",
      "\n",
      " [[ 0  1]\n",
      " [ 2  3]\n",
      " [ 4  5]\n",
      " [ 6  7]\n",
      " [ 8  9]\n",
      " [10 11]\n",
      " [12 13]\n",
      " [14 15]]\n",
      "\n",
      " [[ 0  2  4  6  8 10 12 14]\n",
      " [ 1  3  5  7  9 11 13 15]]\n"
     ]
    }
   ],
   "source": [
    "data_testeTree = np.arange(24).reshape((6, 4))\n",
    "\n",
    "print(data_testeTree)\n",
    "\n",
    "print('\\n', data_testeTree.T)\n",
    "#Observe que o TRANSPOSE, representado pela palavra reservada T, inverte a ordem\n",
    "#linhas se tornam colunas e colunas se tornam linhas\n",
    "\n",
    "data_testeTree = np.arange(16).reshape((8,2))\n",
    "\n",
    "print('\\n', data_testeTree)\n",
    "print('\\n', data_testeTree.T)"
   ]
  },
  {
   "cell_type": "markdown",
   "metadata": {
    "id": "R9h6iPMa2CIQ"
   },
   "source": [
    "## Álgebra Linear em Numpy\n",
    "\n",
    "As vezes pode ter situações que necessitam que somamos, multiplicamos, dividimos ou subtraímos duas matrizes, para isso usamos a função np.dot( ) \n",
    "da biblioteca Numpy de Python"
   ]
  },
  {
   "cell_type": "code",
   "execution_count": 17,
   "metadata": {
    "colab": {
     "base_uri": "https://localhost:8080/"
    },
    "id": "zIhADml_2aTi",
    "outputId": "e24ba70a-cb48-4ab6-e801-72445b930f62"
   },
   "outputs": [
    {
     "name": "stdout",
     "output_type": "stream",
     "text": [
      "146\n",
      "\n",
      " [[ 60  70]\n",
      " [160 195]]\n"
     ]
    }
   ],
   "source": [
    "data_four = np.array([5, 6, 7]); data_five = np.array([7, 8, 9]);\n",
    "\n",
    "print(np.dot(data_four, data_five))\n",
    "#Veja que os elementos das matrizes foram multiplicados um pelo o outro\n",
    "\n",
    "data_four = np.arange(10); data_five = np.arange(10)\n",
    "\n",
    "#print('\\n', np.dot(data_four, data_five))\n",
    "#Os arrays não tem quantidade de linhas e colunas iguais\n",
    "#portanto uma mensagem de erro será impressa\n",
    "\n",
    "data_four = np.arange(10).reshape((2,5)); data_five = np.arange(10).reshape((5,2))\n",
    "\n",
    "print('\\n', np.dot(data_four, data_five))\n",
    "#Observe que as matrizes não precisam ter quantidades de linhas e colunas iguais\n",
    "#mas O NÚMERO DE ELEMENTOS IGUAIS \n"
   ]
  },
  {
   "cell_type": "markdown",
   "metadata": {
    "id": "Rr4WVTtn7BJQ"
   },
   "source": [
    "## Funções Universais\n",
    "\n",
    "As funções universais, ou ufunc, são funções que realizam operações com todos\n",
    "os elementos de um array, exemplos de ufuncs podemos citar sqrt( ) e exp( ):"
   ]
  },
  {
   "cell_type": "code",
   "execution_count": 18,
   "metadata": {
    "colab": {
     "base_uri": "https://localhost:8080/"
    },
    "id": "ZIr0M_7m7szB",
    "outputId": "fbd19830-9455-404d-c9f3-a1a74621af46"
   },
   "outputs": [
    {
     "name": "stdout",
     "output_type": "stream",
     "text": [
      "SQRT( ):\n",
      " [2.23606798 2.64575131 2.82842712 3.        ]\n",
      "EXP():\n",
      " [ 148.4131591  1096.63315843 2980.95798704 8103.08392758]\n"
     ]
    }
   ],
   "source": [
    "#Ufunc -> sqrt( )\n",
    "\n",
    "para_teste = np.array([5, 7, 8, 9])\n",
    "\n",
    "print('SQRT( ):\\n', np.sqrt(para_teste))\n",
    "#Calcula a raiz quadrada de cada elemento individualmente\n",
    "\n",
    "#Ufunc -> exp( )\n",
    "\n",
    "print('EXP():\\n', np.exp(para_teste))"
   ]
  },
  {
   "cell_type": "markdown",
   "metadata": {
    "id": "LE1SKtkz843f"
   },
   "source": [
    "Funções como sqrt( ) e exp( ) são chamadas de **funções unárias**, pois não necessitam de mais de uma matriz para realizar a sua tarefa. Outras como maximum, aceitam dois arrays, e por isso são chamadas de **funções binárias**, e então devolve apenas um array como resultado."
   ]
  },
  {
   "cell_type": "code",
   "execution_count": 19,
   "metadata": {
    "colab": {
     "base_uri": "https://localhost:8080/"
    },
    "id": "DCNBbosl9jra",
    "outputId": "f7173ec3-d716-4a96-b158-af78dfc234f4"
   },
   "outputs": [
    {
     "name": "stdout",
     "output_type": "stream",
     "text": [
      "[ 5 10  7]\n",
      "\n",
      " (array([0.56, 0.07, 0.45]), array([5., 6., 7.]))\n",
      "\n",
      " (array([0.1 , 0.45, 0.67]), array([ 3., 10.,  6.]))\n",
      "\n",
      " [10.      23.567    5.       3.43632]\n",
      "\n",
      " [5.  8.  9.  3.5]\n",
      "\n",
      " [  25  169 2025   36]\n",
      "\n",
      " [   4   16   36   64 1296]\n",
      "\n",
      " [30 60 60]\n",
      "\n",
      " [10 20 30]\n",
      "\n",
      " [25 36 49 64]\n",
      "\n",
      " [2. 2. 3. 5.]\n",
      "\n",
      " [0 0 1 0]\n"
     ]
    }
   ],
   "source": [
    "#Ufunc -> maximum( )\n",
    "para_teste = np.array([5, 6, 7])\n",
    "para_testeTwo = np.array([3, 10, 6])\n",
    "\n",
    "print(np.maximum(para_teste, para_testeTwo))\n",
    "#A função MAXIMUM seleciona os elementos maiores em ambos os Arrays\n",
    "\n",
    "#Ufunc -> modf( )\n",
    "para_teste = np.array([5.56, 6.07, 7.45])\n",
    "para_testeTwo = np.array([3.10, 10.45, 6.67])\n",
    "\n",
    "print('\\n', np.modf(para_teste))\n",
    "print('\\n', np.modf(para_testeTwo))\n",
    "#A função modf( ) retorna a parte fracionária de um array de números de ponto \n",
    "#flutuante\n",
    "\n",
    "#Ufunc -> abs( ) e fabs( )\n",
    "\n",
    "para_teste = np.array([-10, -23.567, -5, 3.43632])\n",
    "para_testeTwo = np.array([-5, -8, -9, -3.5])\n",
    "\n",
    "print('\\n', np.abs(para_teste))\n",
    "print('\\n', np.fabs(para_testeTwo))\n",
    "#abs( ) e fabs( ) calculam o valor absoluto de uma matriz\n",
    "\n",
    "#Ufunc -> square( )\n",
    "\n",
    "para_teste = np.array([5, 13, 45, 6])\n",
    "para_testeTwo = np.array([2, 4, 6, 8, 36])\n",
    "\n",
    "print('\\n', np.square(para_teste))\n",
    "print('\\n', np.square(para_testeTwo))\n",
    "#A função square( ) calcula o quadrado de cada elemento de um Array,\n",
    "#equivalente a para_teste ** 2\n",
    "\n",
    "#Ufunc -> add( )\n",
    "\n",
    "para_teste = np.array([10, 20, 30])\n",
    "para_testeTwo = np.array([20, 40, 30])\n",
    "\n",
    "print('\\n', np.add(para_teste, para_testeTwo))\n",
    "#A função add( ) soma os elementos do primeiro array com o segundo array\n",
    "\n",
    "#Ufunc -> subtract( )\n",
    "\n",
    "para_teste = np.array([20, 40, 60])\n",
    "para_testeTwo = np.array([10, 20, 30])\n",
    "\n",
    "print('\\n', np.subtract(para_teste, para_testeTwo))\n",
    "\n",
    "#Ufunc -> multiply( )\n",
    "\n",
    "para_teste = np.array([5, 6, 7, 8])\n",
    "para_testeTwo = np.array([5, 6, 7, 8])\n",
    "\n",
    "print('\\n', np.multiply(para_teste, para_testeTwo))\n",
    "#A funcão multiply( ) multiplica os elementos de ambos os arrays\n",
    "\n",
    "#Ufunc -> divide( )\n",
    "\n",
    "para_teste = np.array([4, 6, 12, 25])\n",
    "para_testeTwo = np.array([2, 3, 4, 5])\n",
    "\n",
    "print('\\n', np.divide(para_teste, para_testeTwo))\n",
    "#A função divide( ) divide elementos de ambos os arrays\n",
    "\n",
    "#Ufunc -> mod( )\n",
    "\n",
    "para_teste = np.array([4, 35, 5, 14])\n",
    "para_testeTwo = np.array([2, 5, 2, 7])\n",
    "\n",
    "print('\\n', np.mod(para_teste, para_testeTwo))\n",
    "#Observe que o mod( ) nos retorna o resto de divisão, perceba que o 5 não é um \n",
    "#número par, mas ímpar, devido ao resto de divisão igual a 1"
   ]
  },
  {
   "cell_type": "markdown",
   "metadata": {
    "id": "Ipqqzg1C_is6"
   },
   "source": [
    "## np.meshgrid( )\n",
    "\n",
    "A função np.meshgrid( ) da biblioteca Numpy aceita até dois Arrays 1D, e gerar duas novas matrizes 2D correspondentes a todos os pares(x ,y) nos dois arrays. Observe que meshigrid( ) tem dois argumentos, (x, y) sendo que o x é a quantidade de colunas, enquanto y é a quantidade de linhas."
   ]
  },
  {
   "cell_type": "code",
   "execution_count": 20,
   "metadata": {
    "colab": {
     "base_uri": "https://localhost:8080/"
    },
    "id": "JTKFIu1N7gCI",
    "outputId": "3b136a81-e514-449f-8236-0e1f15d128cc"
   },
   "outputs": [
    {
     "name": "stdout",
     "output_type": "stream",
     "text": [
      "\n",
      " [array([[5, 4, 2],\n",
      "       [5, 4, 2],\n",
      "       [5, 4, 2]]), array([[5, 5, 5],\n",
      "       [4, 4, 4],\n",
      "       [2, 2, 2]])]\n",
      "\n",
      "X: [[2 2 2]\n",
      " [2 2 2]\n",
      " [2 2 2]] \n",
      "Y: [[2 2 2]\n",
      " [2 2 2]\n",
      " [2 2 2]]\n",
      "\n",
      "X: [[4 4 4 4]\n",
      " [4 4 4 4]] \n",
      "Y: [[2 2 2 2]\n",
      " [2 2 2 2]]\n"
     ]
    }
   ],
   "source": [
    "vetorOne = np.array([5, 4, 2])\n",
    "\n",
    "vetorTwo = np.array([5, 4, 2])\n",
    "\n",
    "x = np.meshgrid(vetorOne, vetorTwo)\n",
    "print('\\n', x)\n",
    "#Duas matrizes 3x3\n",
    "\n",
    "vetorOne = np.array([2, 2, 2])\n",
    "\n",
    "vetorTwo = np.array([2, 2, 2])\n",
    "\n",
    "x, y= np.meshgrid(vetorOne, vetorTwo)\n",
    "print('\\nX:', x, '\\nY:', y)\n",
    "#Observe que usar duas variáveis nos permite controlar melhor a matriz, \n",
    "#antes, ambas as matrizes 3 x 3 estavam juntas em uma única variável, deixando\n",
    "#a visualização confusa e de mais difícil entendimento por parte do programador\n",
    "\n",
    "vetorOne = np.array([4, 4, 4, 4])#Define a quantidade de colunas\n",
    "\n",
    "vetorTwo = np.array([2, 2])#Define a quantidade de linhas\n",
    "\n",
    "x, y= np.meshgrid(vetorOne, vetorTwo)\n",
    "print('\\nX:', x, '\\nY:', y)"
   ]
  },
  {
   "cell_type": "markdown",
   "metadata": {
    "id": "aPfL98W7-2MY"
   },
   "source": [
    "## Expressões condicionais com Arrays **Numpy**\n",
    "\n",
    "A função np.where( ) é um equivalente a if e else do Python puro. Veja abaixo um exemplo, onde estabeleço uma condição, M == 10, caso M for igual a 10, o valor será True portanto vai imprimir o elemento do array N, senão(else), imprimirá o elemento do Array M:"
   ]
  },
  {
   "cell_type": "code",
   "execution_count": 21,
   "metadata": {
    "colab": {
     "base_uri": "https://localhost:8080/"
    },
    "id": "uP9O6BXc_N_k",
    "outputId": "644d2042-eb0b-4ff7-f003-e783a2cb9c27"
   },
   "outputs": [
    {
     "name": "stdout",
     "output_type": "stream",
     "text": [
      "[ 2 12 13 16 18  8]\n",
      "\n",
      " [13.  11.   5.  17.   7.  56.6]\n"
     ]
    }
   ],
   "source": [
    "M = np.array([10, 12, 13, 16, 18, 10])\n",
    "N = np.array([2, 4, 5, 6, 7, 8])\n",
    "\n",
    "print(np.where(M == 10, N, M))\n",
    "#Se M == 10, imprime N, senão, imprime M\n",
    "\n",
    "M = np.array([13, 11, 14, 17, 21, 56.6])\n",
    "N = np.array([2, 4, 5, 6, 7, 8])\n",
    "\n",
    "print('\\n', np.where(np.mod(N, 2) == 0, M, N))\n",
    "#Observe que estou usando função dentro de outra função, onde se o elemento\n",
    "#dentro de N for PAR( resto de divisão igual a 0) ele imprimi o elemento no \n",
    "#array de M, senão N.\n"
   ]
  },
  {
   "cell_type": "markdown",
   "metadata": {
    "id": "ANkhlqUCCpZ8"
   },
   "source": [
    "Imagine a situação onde temos um array aleatório com X número de elementos, e quiséssemos substituir todos os valores negativos por zero, podemos realizar esta tarefa facilmente com np.where( ):"
   ]
  },
  {
   "cell_type": "code",
   "execution_count": 22,
   "metadata": {
    "colab": {
     "base_uri": "https://localhost:8080/"
    },
    "id": "9MFHOjRADA8w",
    "outputId": "70a99fc4-3312-4ed6-fed0-973e6b20e9c2"
   },
   "outputs": [
    {
     "name": "stdout",
     "output_type": "stream",
     "text": [
      "\n",
      "Matriz original: \n",
      " [[ 2.32746969 -0.81410502  1.12471392]\n",
      " [ 0.41214884  0.34083223 -0.44458745]\n",
      " [-1.98090165 -1.80182057  0.8891178 ]\n",
      " [-0.1698405  -0.66578559 -0.57135542]\n",
      " [ 0.22837541  2.26197848  0.40516571]]\n",
      "\n",
      "Matriz adulterada: \n",
      " [[2.32746969 0.         1.12471392]\n",
      " [0.41214884 0.34083223 0.        ]\n",
      " [0.         0.         0.8891178 ]\n",
      " [0.         0.         0.        ]\n",
      " [0.22837541 2.26197848 0.40516571]]\n",
      "\n",
      "Verificando onde estão os elementos negativos: \n",
      " [[False False False]\n",
      " [False False  True]\n",
      " [False False  True]\n",
      " [False  True  True]\n",
      " [ True False  True]]\n"
     ]
    }
   ],
   "source": [
    "Randomico = np.random.randn(5, 3)\n",
    "\n",
    "print('\\nMatriz original: \\n', Randomico)\n",
    "\n",
    "Negativos = np.where(Randomico < 0, 0, Randomico)\n",
    "\n",
    "print('\\nMatriz adulterada: \\n', Negativos)\n",
    "#Observe que todos os elementos negativos foram substituídos por zero.\n",
    "\n",
    "Randomico = np.random.randn(5, 3)\n",
    "\n",
    "#É possível verificar os elementos negativos com uma expresão que nos retorna \n",
    "#valores booleanos, True e False\n",
    "\n",
    "print('\\nVerificando onde estão os elementos negativos: \\n', Randomico < 0)"
   ]
  },
  {
   "cell_type": "code",
   "execution_count": 23,
   "metadata": {
    "colab": {
     "base_uri": "https://localhost:8080/"
    },
    "id": "vTpUgtuVFTnn",
    "outputId": "56432140-61ed-42fe-a4be-cd629c9709a8"
   },
   "outputs": [
    {
     "name": "stdout",
     "output_type": "stream",
     "text": [
      "[[1.         2.44939146 1.         1.00079269 1.        ]\n",
      " [1.14326355 1.         1.43105168 1.         1.        ]\n",
      " [1.         1.         1.         1.         1.        ]\n",
      " [1.         1.         1.32638609 1.         1.65259043]\n",
      " [1.         1.         1.         1.         1.        ]]\n"
     ]
    }
   ],
   "source": [
    "Matriz_Um = np.random.randn(5, 5)\n",
    "\n",
    "X_Um = np.where((Matriz_Um < 0) | (Matriz_Um < 1), 1, Matriz_Um)\n",
    "print(X_Um)\n",
    "#Observe o uso do operador lógico OU no np.where( ), veja que para o uso de \n",
    "#expressões lógicas com operadores lógicos devemos colocar entre parênteses\n",
    "#todos os itens o qual queremos trabalhar."
   ]
  },
  {
   "cell_type": "markdown",
   "metadata": {
    "id": "UMXm68QuRRJJ"
   },
   "source": [
    "## **Funções de estatísticas e mateméticas para Analise de Dados**\n",
    "\n",
    "Em Python temos algumas funções matemáticas que nos permite realizar cálculos estatíticos sobre dados. Exemplos são: sum( ), mean( ) e std( )(desvio padrão). Veja abaixo onde gero valores aleatórios para calcular estatística:"
   ]
  },
  {
   "cell_type": "code",
   "execution_count": 24,
   "metadata": {
    "colab": {
     "base_uri": "https://localhost:8080/"
    },
    "id": "trrb35KfSXp1",
    "outputId": "990c7ec2-c976-4442-c779-3e292e3d7e72"
   },
   "outputs": [
    {
     "name": "stdout",
     "output_type": "stream",
     "text": [
      "Array:  [0 1 2 3 4 5 6 7 8 9] \n",
      "\n",
      "Soma consecutiva dos elementos: 45\n"
     ]
    }
   ],
   "source": [
    "SOMA_CONSECUTIVA = np.arange(10)\n",
    "\n",
    "print('Array: ', SOMA_CONSECUTIVA, '\\n')\n",
    "print('Soma consecutiva dos elementos:', SOMA_CONSECUTIVA.sum())"
   ]
  },
  {
   "cell_type": "markdown",
   "metadata": {
    "id": "KLHN7TQjTH0g"
   },
   "source": [
    "Veja que o sum( ) realiza a soma consecutiva dos elementos de um array, e nos retorna o resultado da somatória."
   ]
  },
  {
   "cell_type": "code",
   "execution_count": 25,
   "metadata": {
    "colab": {
     "base_uri": "https://localhost:8080/"
    },
    "id": "7OCO4grGTRYB",
    "outputId": "3e9b4b92-8a73-434d-9c56-e3b9d8d54ce6"
   },
   "outputs": [
    {
     "name": "stdout",
     "output_type": "stream",
     "text": [
      "1)\n",
      " 5.0\n",
      "2)\n",
      " 3.0\n",
      "3)\n",
      " 4.0\n"
     ]
    }
   ],
   "source": [
    "Media_Aritmetica = np.array([5, 5, 5, 5])\n",
    "print('1)\\n', Media_Aritmetica.mean())\n",
    "# 5 + 5 + 5 + 5 = 20, QUE DIVIDIDO POR 4 É IGUAL A 2.0\n",
    "\n",
    "Media_Aritmetica = np.array([3, 3, 3, 3])\n",
    "print('2)\\n', Media_Aritmetica.mean())\n",
    "# 3 + 3 + 3 + 3 = 12, QUE DIVIDIDO POR 4 É IGUAL A 3.0\n",
    "\n",
    "Media_Aritmetica = np.array([4, 4, 4, 4])\n",
    "print('3)\\n', Media_Aritmetica.mean())\n",
    "# 4 + 4 + 4 + 4 = 16, QUE DIVIDIDO POR 4 É IGUAL A 4.0"
   ]
  },
  {
   "cell_type": "markdown",
   "metadata": {},
   "source": [
    "## Funções cumsum( ) e cumprod( )\n"
   ]
  },
  {
   "cell_type": "code",
   "execution_count": 44,
   "metadata": {},
   "outputs": [
    {
     "name": "stdout",
     "output_type": "stream",
     "text": [
      "[ 10  30  60 100]\n",
      "[   2    8   64 1024]\n"
     ]
    }
   ],
   "source": [
    "array_exemplo = np.array([10, 20, 30, 40])\n",
    "\n",
    "print(array_exemplo.cumsum())\n",
    "\n",
    "array_exemplo = np.array([2, 4, 8, 16])\n",
    "\n",
    "print(array_exemplo.cumprod())"
   ]
  },
  {
   "cell_type": "markdown",
   "metadata": {},
   "source": [
    "Observe que a função cumsum( ) e cumprod( ) tem finalidades semelhantes as funções sum( ) e prod( ), onde o \n",
    "primeiro faz a soma consecutiva dos elementos de um arrays, enquanto o segundo a multiplicação consecutiva."
   ]
  },
  {
   "cell_type": "code",
   "execution_count": 48,
   "metadata": {},
   "outputs": [
    {
     "name": "stdout",
     "output_type": "stream",
     "text": [
      "Soma:  [15 30 45 60] \n",
      "\n",
      "Multiplicação:  [   15   225  3375 50625] \n",
      "\n"
     ]
    }
   ],
   "source": [
    "array_exemploDois = np.array([ 15, 15, 15, 15])\n",
    "\n",
    "print(\"Soma: \", array_exemploDois.cumsum(), \"\\n\")\n",
    "print(\"Multiplicação: \", array_exemploDois.cumprod(), \"\\n\")\n"
   ]
  },
  {
   "cell_type": "code",
   "execution_count": 27,
   "metadata": {
    "colab": {
     "base_uri": "https://localhost:8080/"
    },
    "id": "6J5i5eJ_1xfw",
    "outputId": "4a7efa4a-a837-4be6-abd5-2c2ce6f07241"
   },
   "outputs": [
    {
     "name": "stdout",
     "output_type": "stream",
     "text": [
      "[23 56]\n"
     ]
    },
    {
     "data": {
      "text/plain": [
       "array([ 2,  2,  2,  2, -2])"
      ]
     },
     "execution_count": 27,
     "metadata": {},
     "output_type": "execute_result"
    }
   ],
   "source": [
    "points = np.arange(-5, 5, 0.01)\n",
    "\n",
    "xp, ys = np.meshgrid(points, points)\n",
    "\n",
    "xp\n",
    "\n",
    "#-----------------------------------\n",
    "\n",
    "xppo = np.array([10,13,10,56,78])\n",
    "yui = np.array([23,45,56,78,-90])\n",
    "\n",
    "print(yui[(xppo == 10)])\n",
    "\n",
    "#Veja que eu uso o [( )] para estabelecer uma condicional no meu Array\n",
    "\n",
    "#O np.where estabelece uma condicional para as matrizes, ou seja, o seu objetivo é semelhante a um if( ) e else\n",
    "\n",
    "result = np.where(yui > 0, 2, -2)\n",
    "\n",
    "#Veja que a condicional é yui > 0, e o valor 2 é o argumento de caso a condicional seja atendida, se não, -2\n",
    "#Todos os valores positivos serão 2, todos os negativos serão -2\n",
    "\n",
    "result"
   ]
  },
  {
   "cell_type": "code",
   "execution_count": 28,
   "metadata": {
    "colab": {
     "base_uri": "https://localhost:8080/"
    },
    "id": "vVR5e7Oyh4mY",
    "outputId": "63feaaa6-76c0-455c-bd05-7b62b488decd"
   },
   "outputs": [
    {
     "name": "stdout",
     "output_type": "stream",
     "text": [
      "<built-in method reshape of numpy.ndarray object at 0x000002044284D4E0>\n",
      "[]\n",
      "Aqui (array([0.01   , 0.789  , 0.45334]), array([5., 6., 6.]))\n"
     ]
    }
   ],
   "source": [
    "#Função reshape( )\n",
    "\n",
    "x = np.arange(4, 4)\n",
    "\n",
    "print(x.reshape)\n",
    "\n",
    "print(x.T)\n",
    "\n",
    "np.dot(x.T, x)\n",
    "\n",
    "ArrayGigante = [3,4,6], [7,8,9], [10, 12,14]\n",
    "\n",
    "#Função sqrt( ) e exp( )\n",
    "np.sqrt(ArrayGigante)\n",
    "\n",
    "np.exp(ArrayGigante)\n",
    "\n",
    "#A função modf devolve a parte fracionária de um Array de ponto flutuante\n",
    "\n",
    "testeFlut = np.array([5.01, 6.789, 6.45334])\n",
    "\n",
    "print(\"Aqui\", np.modf(testeFlut)) #Legal, página 209\n"
   ]
  },
  {
   "cell_type": "code",
   "execution_count": 29,
   "metadata": {
    "colab": {
     "base_uri": "https://localhost:8080/"
    },
    "id": "gRHVz_ZGKfqc",
    "outputId": "c547a957-d062-4449-d8ab-ccd8037746be"
   },
   "outputs": [
    {
     "name": "stdout",
     "output_type": "stream",
     "text": [
      "[0 1 2 3 4 5 6 7 8 9]\n",
      "[[0. 0. 0. 0.]\n",
      " [0. 0. 0. 0.]]\n"
     ]
    }
   ],
   "source": [
    "impares = np.arange(10)\n",
    "\n",
    "print(impares)\n",
    "\n",
    "zero = np.zeros((2,4))\n",
    "\n",
    "print(zero)"
   ]
  },
  {
   "cell_type": "code",
   "execution_count": 30,
   "metadata": {
    "colab": {
     "base_uri": "https://localhost:8080/"
    },
    "id": "nCdtAhG12eRk",
    "outputId": "e4840849-f22f-4f8d-d994-3c763d84c7b4"
   },
   "outputs": [
    {
     "name": "stdout",
     "output_type": "stream",
     "text": [
      "int64\n",
      "float64\n"
     ]
    }
   ],
   "source": [
    "teste_UM = np.array([5, 7, 8], dtype = np.int64)\n",
    "\n",
    "print(teste_UM.dtype)\n",
    "\n",
    "floatCast = teste_UM.astype(np.float64)\n",
    "\n",
    "print(floatCast.dtype)\n",
    "\n"
   ]
  },
  {
   "cell_type": "code",
   "execution_count": 31,
   "metadata": {
    "colab": {
     "base_uri": "https://localhost:8080/"
    },
    "id": "u33B0KAk5I84",
    "outputId": "2027674f-f99b-4197-83e4-f0b96a3aafb0"
   },
   "outputs": [
    {
     "name": "stdout",
     "output_type": "stream",
     "text": [
      "[10 12 14]\n"
     ]
    }
   ],
   "source": [
    "#Operações Aritméticas com os Arrays\n",
    "\n",
    "data2 = [5, 6, 7]\n",
    "\n",
    "array2 = np.array(data2)\n",
    "\n",
    "array2 = array2 * 2\n",
    "\n",
    "print(array2)"
   ]
  },
  {
   "cell_type": "code",
   "execution_count": 32,
   "metadata": {
    "colab": {
     "base_uri": "https://localhost:8080/"
    },
    "id": "U36oiwzk6Zig",
    "outputId": "7cb82429-225c-48e7-c350-b3af68809d39"
   },
   "outputs": [
    {
     "name": "stdout",
     "output_type": "stream",
     "text": [
      "[False False False]\n"
     ]
    }
   ],
   "source": [
    "data3 = [8, 4, 6]\n",
    "\n",
    "array3 = np.array(data3)\n",
    "\n",
    "print(array3 > array2)\n",
    "#Se for menor, True, senão, False."
   ]
  },
  {
   "cell_type": "code",
   "execution_count": 33,
   "metadata": {
    "colab": {
     "base_uri": "https://localhost:8080/"
    },
    "id": "qBLwQ73u7EZ1",
    "outputId": "235af68d-1d9f-4a5a-abb6-fbbf5ed46d28"
   },
   "outputs": [
    {
     "name": "stdout",
     "output_type": "stream",
     "text": [
      "[3, 3, 2, 6]\n",
      "[8, 3]\n",
      "[5, 8, 57, 3, 2, 6, 7]\n"
     ]
    }
   ],
   "source": [
    "#SliceNotation básico com os Arrays do NumPy\n",
    "\n",
    "data4 = [5, 8, 3, 3, 2, 6, 7]\n",
    "\n",
    "print(data4[2:6])\n",
    "#Do segundo elemento até o sexto elemento do Array\n",
    "\n",
    "print(data4[1: 3])\n",
    "#Do primeiro até o segundo elemento do array\n",
    "\n",
    "\"\"\"Página 190 do livro de Python para analise de dados\"\"\"\n",
    "\n",
    "#Uma fatia vazia vai mostrar todos os elementos de um Array\n",
    "\n",
    "data4[2] = 57\n",
    "\n",
    "print(data4[:])"
   ]
  },
  {
   "cell_type": "code",
   "execution_count": 34,
   "metadata": {
    "colab": {
     "base_uri": "https://localhost:8080/"
    },
    "id": "3D8XuCXK9Yy0",
    "outputId": "1b400cb9-252e-4d41-db2f-e34222a2a219"
   },
   "outputs": [
    {
     "name": "stdout",
     "output_type": "stream",
     "text": [
      "8\n",
      "[[5 7 8]]\n",
      "[5 7]\n",
      "[4 7 8]\n",
      "[3 6 8]\n",
      "======================\n",
      " [8 8 8]\n"
     ]
    }
   ],
   "source": [
    "#Acessando um elemento de um Array bidimensional\n",
    "\n",
    "data5 = np.array([[5, 7, 8], [4, 7, 8], [3, 6, 8]])\n",
    "\n",
    "print(data5[2, 2])\n",
    "\n",
    "#Como fatiar um Array Bidimensional??\n",
    "\n",
    "print(data5[:1]) #Leia isso como, \"Pegue a primeira linha de meu Array\"\n",
    "\n",
    "print(data5[0, : 2 ]) #Leia isso como: \"Selecione a primeira linha(linha 0) mas somente as duas primeiras colunas\"\n",
    "\n",
    "print(data5[1, : 3])  #Leia isso como: \"Selecione a segunda linha(linha 1) mas somente as três primeiras colunas\"\n",
    "\n",
    "print(data5[2, : 3])  #Leia isso como: \"Selecione toda a terceira linha com suas colunas\"\n",
    "\n",
    "#De modo semelhante posso selecionar a coluna mas só algumas linhas, veja: Página 195 para ver as fatias para acessar índices\n",
    "\n",
    "print(\"======================\\n\", data5[:3, 2]) #Selecionei as última coluna com todos os seus elementos(2), se fosse Um seria apenas dois elementos"
   ]
  },
  {
   "cell_type": "code",
   "execution_count": 35,
   "metadata": {
    "colab": {
     "base_uri": "https://localhost:8080/"
    },
    "id": "3KyqzLfUCkrE",
    "outputId": "3ea6a6bb-77e4-4a80-fc60-590387e978e8"
   },
   "outputs": [
    {
     "name": "stdout",
     "output_type": "stream",
     "text": [
      "[5 5 7 8]\n"
     ]
    }
   ],
   "source": [
    "data6 = np.array([5, 6, 7, 8])\n",
    "\n",
    "data6[0 : 2] = 5 #Atribuição com o fatiamento\n",
    "\n",
    "print(data6)"
   ]
  },
  {
   "cell_type": "code",
   "execution_count": 36,
   "metadata": {
    "colab": {
     "base_uri": "https://localhost:8080/"
    },
    "id": "0b6EpP0AE8Ee",
    "outputId": "8fa7bf8c-9303-4300-8bba-a33760b1a9a1"
   },
   "outputs": [
    {
     "name": "stdout",
     "output_type": "stream",
     "text": [
      "[[ 0.18499912  0.4874214  -0.68959549 -0.1290674 ]\n",
      " [ 1.35862785  1.04172398 -0.78669007 -0.32598415]\n",
      " [-0.11497671 -0.05426518  0.91129528 -1.88133248]\n",
      " [-0.43270067  1.56417956 -2.52606281  0.44626229]\n",
      " [ 0.4787379  -0.61916289  0.24998278 -1.20645292]\n",
      " [-0.24756329 -0.82615554 -1.47604846  1.2934423 ]\n",
      " [ 0.06821715 -0.55841096 -0.2735276  -0.8711915 ]]\n",
      "[ True False False]\n",
      "[False  True  True]\n"
     ]
    }
   ],
   "source": [
    "#Gerando dados aleatórios\n",
    "\n",
    "data7 = np.random.randn(7, 4) # Sete linhas e quatro colunas\n",
    "\n",
    "print(data7)\n",
    "\n",
    "#Comparações Booleanas\n",
    "\n",
    "data8 = np.array([\"Bob\", \"Jonnhy\", \"Júlia\"])\n",
    "\n",
    "print(data8 == \"Bob\") #Dahora :D\n",
    "\n",
    "#Para selecionar tudo, exceto o Bob, podemos usar o operador diferente( != )\n",
    "\n",
    "print(data8 != \"Bob\")\n",
    "\n",
    "#Podemos fazer comparações booleanas misturando o AND(&) e OR(|)\n",
    "\n",
    "teste = (data8 == \"Bob\") & (data8 == \"Júlia\") #Observe que a comparação booleana foi armazenada em uma variável\n"
   ]
  },
  {
   "cell_type": "code",
   "execution_count": 37,
   "metadata": {
    "colab": {
     "base_uri": "https://localhost:8080/"
    },
    "id": "wKw2at-z8QLr",
    "outputId": "36317341-63f8-49bb-bca2-4462ae665c30"
   },
   "outputs": [
    {
     "data": {
      "text/plain": [
       "26"
      ]
     },
     "execution_count": 37,
     "metadata": {},
     "output_type": "execute_result"
    }
   ],
   "source": [
    "#Estatística em NumPy (Página.217 e 218) (Página 220 para ver todas as funções de estatística para o NumPy)\n",
    "\n",
    "data8 = [10, 20, 20, 26]\n",
    "\n",
    "GOL = np.array(data8)\n",
    "\n",
    "#Funções como SUM( ), MEAN( ), STD( ) realizam operações estatísticas nos Arrays\n",
    "\n",
    "GOL.sum() #Soma todos os elementos de meu Array\n",
    "GOL.mean() #Média aritmética de todos os elementos de meu Array\n",
    "GOL.std()\n",
    "\n",
    "GOL.cumsum() #A função cumsum() soma o primeiro elemento com o segundo, e o segundo com o terceiro, e ai por adiante\n",
    "\n",
    "GOL.cumprod()\n",
    "#Semelhante ao cumsum() a função cumprod() faz a multiplicação dos elementos de um Array, o primeiro vezes o segundo elemento, segundo\n",
    "#vezes o terceiro, e assim por diante\n",
    "\n",
    "GOL.max()#Retorna o maior valor do Array\n"
   ]
  },
  {
   "cell_type": "code",
   "execution_count": 38,
   "metadata": {
    "colab": {
     "base_uri": "https://localhost:8080/"
    },
    "id": "fxuoHZrMADlf",
    "outputId": "1038d600-ce3c-4762-ebba-c842ad5dd8ba"
   },
   "outputs": [
    {
     "name": "stdout",
     "output_type": "stream",
     "text": [
      "Um ou mais elementos são True:  True\n",
      "Todos os elementos de meu Array são True:  False\n",
      "True\n"
     ]
    }
   ],
   "source": [
    "#Arrays booleanos. Vamos usar duas funções para Arrays booleanos que testa se um ou mais de seus elementos são True ou False.\n",
    "\n",
    "bools = np.array([True, False, True, False])\n",
    "\n",
    "print(\"Um ou mais elementos são True: \", bools.any())\n",
    "\n",
    "print(\"Todos os elementos de meu Array são True: \", bools.all())\n",
    "\n",
    "#Essas funções funcionam com arrays de números, onde números maiores que segnifica True e 0 significa False\n",
    "\n",
    "data9 = np.array([5, 6, 4, -1])\n",
    "\n",
    "np.where(data9 > 0, \"True\", \"False\")\n",
    "\n",
    "print(data9.any())"
   ]
  },
  {
   "cell_type": "code",
   "execution_count": 39,
   "metadata": {
    "colab": {
     "base_uri": "https://localhost:8080/"
    },
    "id": "c_1xPSYyCCr3",
    "outputId": "0cc0833b-0e8d-469a-ed7c-fd970e480a21"
   },
   "outputs": [
    {
     "name": "stdout",
     "output_type": "stream",
     "text": [
      "[2 3 5 7]\n",
      "[ 1.71800268  0.0811      0.33189548  0.05224959  0.32893614  0.57879489\n",
      "  0.17439037  0.51566903 -0.74892344 -1.51228864]\n",
      "[-1.51228864 -0.74892344  0.05224959  0.0811      0.17439037  0.32893614\n",
      "  0.33189548  0.51566903  0.57879489  1.71800268]\n"
     ]
    },
    {
     "data": {
      "text/plain": [
       "array([ True, False,  True,  True,  True,  True])"
      ]
     },
     "execution_count": 39,
     "metadata": {},
     "output_type": "execute_result"
    }
   ],
   "source": [
    "#Ordenação de Arrays\n",
    "\n",
    "GH = np.array([5, 7, 3, 2])\n",
    "GH.sort() #Observe que sort() ordena os elementos do menor para o maior, uma função últil\n",
    "\n",
    "print(GH)\n",
    "\n",
    "data10 = np.random.randn(10)\n",
    "print(data10)\n",
    "\n",
    "data10.sort()\n",
    "\n",
    "print(data10) #Certíssimo :)\n",
    "\n",
    "#O np.unique() é uma função que não permite a redundância de elementos dentro de um Array\n",
    "\n",
    "data11 = ([3, 3, 4, 4, 6, 6, 7, 7])\n",
    "np.unique(data11)\n",
    "\n",
    "#O np.in1d, realiza comparações de valores de um Array, caso os valores sejam igual ao elemento contido dentro do Array, será True, se não, False\n",
    "\n",
    "data12 = np.array([50, 43, 6, 8, 6 ,9])\n",
    "data13 = np.random.rand(15)\n",
    "\n",
    "np.in1d(data12, 43, 50, 63)\n",
    "\n"
   ]
  },
  {
   "cell_type": "code",
   "execution_count": 40,
   "metadata": {
    "colab": {
     "base_uri": "https://localhost:8080/"
    },
    "id": "fFWKwTRlHn_M",
    "outputId": "9e33c5ac-bdcb-441e-82f3-ee4f900ddeb5"
   },
   "outputs": [
    {
     "name": "stdout",
     "output_type": "stream",
     "text": [
      "Aqui está:  [5 7 3 6 2 4 9]\n"
     ]
    }
   ],
   "source": [
    "#Você também pode salvar seus Arrays em arquivos externos, sendo estes arquivos de dois tipos: binário e texto.\n",
    "\n",
    "data14 = np.array([5, 7, 3, 6, 2, 4, 9])\n",
    "\n",
    "np.save('Arquivo_teste', data14)\n",
    "\n",
    "Arck = np.load('Arquivo_teste.npy')\n",
    "\n",
    "print(\"Aqui está: \", Arck) # Sucesso"
   ]
  },
  {
   "cell_type": "code",
   "execution_count": 41,
   "metadata": {
    "colab": {
     "base_uri": "https://localhost:8080/"
    },
    "id": "WW2iDuRYJip6",
    "outputId": "19c7fe52-b53c-4630-9b01-04b2e078629f"
   },
   "outputs": [
    {
     "data": {
      "text/plain": [
       "array([[5, 0, 0, 0],\n",
       "       [0, 6, 0, 0],\n",
       "       [0, 0, 4, 0],\n",
       "       [0, 0, 0, 3]])"
      ]
     },
     "execution_count": 41,
     "metadata": {},
     "output_type": "execute_result"
    }
   ],
   "source": [
    "data15 = np.array([5, 6, 4, 3])\n",
    "data16 = np.array([5, 4, 3, 2])\n",
    "\n",
    "np.dot(data15 ,data16)#O np.dot() realiza a múltiplicação de matrizes, onde cada elemento é multiplicado pelo elemento de outra matriz, em \n",
    "#seguida o resultado é somado( 5x 5) + (6 x 4) + (4 x 3) + (3 X 2) = 67\n",
    "\n",
    "data15.dot(data16) # equivalente a np.dot() \n",
    "\n",
    "np.diag(data15)#Observe que a função diag() organizar os elementos de um Array na posição vertical"
   ]
  },
  {
   "cell_type": "code",
   "execution_count": 42,
   "metadata": {
    "colab": {
     "base_uri": "https://localhost:8080/"
    },
    "id": "HtEc4fN9TcGs",
    "outputId": "122078d6-a3e0-4eb7-e75a-f308a6a9f8aa"
   },
   "outputs": [
    {
     "name": "stdout",
     "output_type": "stream",
     "text": [
      "[[-1.76068717  1.20489915  0.37221618  0.30457522]\n",
      " [ 0.75032395 -0.48796775 -1.01844381  1.48870192]\n",
      " [-0.14240264 -0.43469764 -1.13620083  0.03814877]\n",
      " [-1.12540237 -3.47497635  0.89334145  0.26681695]]\n"
     ]
    }
   ],
   "source": [
    "data18 = np.random.normal(size=(4, 4)) #Criei uma Matriz de 4 linhas e 4 colunas\n",
    "\n",
    "print(data18)\n",
    "\n",
    "#página 230 - 232 para ver sobre os atributos de random\n"
   ]
  }
 ],
 "metadata": {
  "colab": {
   "collapsed_sections": [],
   "name": "Python - Para Analise de Dados.ipynb",
   "provenance": []
  },
  "kernelspec": {
   "display_name": "Python 3",
   "language": "python",
   "name": "python3"
  },
  "language_info": {
   "codemirror_mode": {
    "name": "ipython",
    "version": 3
   },
   "file_extension": ".py",
   "mimetype": "text/x-python",
   "name": "python",
   "nbconvert_exporter": "python",
   "pygments_lexer": "ipython3",
   "version": "3.8.5"
  }
 },
 "nbformat": 4,
 "nbformat_minor": 1
}
