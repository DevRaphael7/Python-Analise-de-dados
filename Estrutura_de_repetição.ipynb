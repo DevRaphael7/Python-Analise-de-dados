{
 "cells": [
  {
   "cell_type": "markdown",
   "metadata": {},
   "source": [
    "## Uma **estrutura** de repetição é usada quando um trecho ou código inteiro de um código precisa ser repetido. \n",
    "\n",
    "## **1) Estrutura de repetição PARA.**\n",
    "\n",
    "Esta estrutura de repetição é usada quando se sabe o número de vezes que um trecho \n",
    "de código deve ser repetido.\n",
    "\n",
    "Em Python seria PARA VALOR_INICIAL NO range(VALOR_INICIAL, VALOR_FINAL)\n",
    "Observa que em Python usamos a função range( ), esta função é usada para repetir\n",
    "o trecho do código em uma sequência de números.\n",
    "Em suma, a função range( ) é usada para criar uma sequência de números em um intervalo\n",
    "definido nos seus parâmetros. A função range( ) tem três argumentos:\n",
    "\n",
    "- **início: começo da sequência.**\n",
    "- **parar: onde a sequência termina**\n",
    "- **passo: passo é como será a variação de controle da aquela variável, ou seja,se for definido o PASSO2 então a variável vai incrementar em 2 unidades até alcançar o valor final.**\n",
    "\n",
    "No código abaixo temos um exemplo simples, veja que o argumento da função range( ) foi \n",
    "apenas um valor 10, logo, será I(valor_inicial) até range(10) valor final.\n"
   ]
  },
  {
   "cell_type": "code",
   "execution_count": 1,
   "metadata": {},
   "outputs": [
    {
     "name": "stdout",
     "output_type": "stream",
     "text": [
      "0\n",
      "1\n",
      "2\n",
      "3\n",
      "4\n",
      "5\n",
      "6\n",
      "7\n",
      "8\n",
      "9\n",
      "\n"
     ]
    }
   ],
   "source": [
    "#Ex.:\n",
    "\n",
    "i = 1\n",
    "\n",
    "for i in range(10):\n",
    "    print(i)\n",
    "print( )"
   ]
  },
  {
   "cell_type": "markdown",
   "metadata": {},
   "source": [
    "**Observe que o primeiro número da sequência foi zero, caso desejamos que o valor inicial seja diferente, temos uma alternativa mais enxuta do que alterar o valor da variável. Inserindo mais um argumento nos parâmetros da função range( ) podemos dizer ao código qual será o outro valor inicial.**"
   ]
  },
  {
   "cell_type": "code",
   "execution_count": 2,
   "metadata": {},
   "outputs": [
    {
     "name": "stdout",
     "output_type": "stream",
     "text": [
      "1\n",
      "2\n",
      "3\n",
      "4\n",
      "5\n",
      "6\n",
      "7\n",
      "8\n",
      "9\n",
      "10\n",
      " \n"
     ]
    }
   ],
   "source": [
    "#Ex.: \n",
    "\n",
    "i = 1\n",
    "\n",
    "for i in range(1, 11):\n",
    "    print(i)\n",
    "print(' ')"
   ]
  },
  {
   "cell_type": "markdown",
   "metadata": {},
   "source": [
    "# Observe:\n",
    "Temos agora dois argumentos, o 1 e o 11. O argumento 1 é o valor inicial da sequência que vai iterar, o 11 é igual a 10, ou seja, começará do um e terminará no número 10. \n",
    "\n",
    "**Algoritmo:**\n",
    "\n",
    "PARA Variável_de_controle NO range(VALOR_INICIAL, VALOR_FINAL):\n",
    "\n",
    "E se quiséssemos a seguinte sequência: 2, 3, 4, 5, 6, 7, 8, 9, 10, 11, 12, como faríamos:"
   ]
  },
  {
   "cell_type": "code",
   "execution_count": 4,
   "metadata": {},
   "outputs": [
    {
     "name": "stdout",
     "output_type": "stream",
     "text": [
      "2\n",
      "3\n",
      "4\n",
      "5\n",
      "6\n",
      "7\n",
      "8\n",
      "9\n",
      "10\n",
      "11\n",
      "12\n",
      " \n"
     ]
    }
   ],
   "source": [
    "i = 1\n",
    "\n",
    "for i in range(2, 13):\n",
    "    print(i)\n",
    "print(' ')"
   ]
  },
  {
   "cell_type": "markdown",
   "metadata": {},
   "source": [
    "#### E se quisséssemos a seguinte sequência: 2, 4, 6, 8, 10, em números pares, qual algoritmo iriamos precisar? O passo indica como será a variação de controle da variável. ####\n",
    "\n",
    "Para isso colocamos um terceiro argumento nos parâmetros de range( ), este argumento será o incremento, ou seja, como será a variação da variável de controle."
   ]
  },
  {
   "cell_type": "code",
   "execution_count": 6,
   "metadata": {},
   "outputs": [
    {
     "name": "stdout",
     "output_type": "stream",
     "text": [
      "2\n",
      "4\n",
      "6\n",
      "8\n",
      "10\n",
      " \n"
     ]
    }
   ],
   "source": [
    "#Ex.:\n",
    "\n",
    "i = 1\n",
    "\n",
    "for i in range(2, 11, 2):\n",
    "    print(i)\n",
    "print(' ')"
   ]
  },
  {
   "cell_type": "markdown",
   "metadata": {},
   "source": [
    "#### Veja acima que o terceiro argumento é 2, o **PASSO** da **ESTRUTURA DE REPETIÇÃO PARA**. O dado 2 quer dizer que a variável de controle i será incrementada em 2 unidades a cada iteração, se o dado fosse 3, seria incremento em 3 unidades a cada iteração, e se fosse -1, seria decremento, ou seja, i - 1 a cada iteração.\n",
    "\n",
    "Para temos a sequência descrecente de 10, 9, 8, 7, 6, 5, 4, ,3 ,2 façamos: \n",
    "\n",
    "(Obs.: se não colocar o argumento do passo na função range( ) o incremento será de uma 1 unidade por padrão)"
   ]
  },
  {
   "cell_type": "code",
   "execution_count": 8,
   "metadata": {},
   "outputs": [
    {
     "name": "stdout",
     "output_type": "stream",
     "text": [
      "10\n",
      "9\n",
      "8\n",
      "7\n",
      "6\n",
      "5\n",
      "4\n",
      "3\n",
      "2\n",
      "\n"
     ]
    }
   ],
   "source": [
    "i = i\n",
    "\n",
    "for i in range(10, 1, -1):\n",
    "    print(i)\n",
    "print('')"
   ]
  },
  {
   "cell_type": "markdown",
   "metadata": {},
   "source": [
    "**Observe que fizemos um decremento com o passo -1**"
   ]
  },
  {
   "cell_type": "markdown",
   "metadata": {},
   "source": [
    "## Acumulador e Contador\n",
    "\n",
    "Em uma **estrutura de repetição para** existem duas instruções muito usadas, o acumulador e o contador.\n",
    "\n",
    "- Acumulador\n",
    "\n",
    "O acumulador é usado para casos de operações aritméticas onde precisamos obter um valor a cada iteração assim esse valor vai se acumulando em uma variável. É importante saber que pelo fato de ser usado para uma operação aritmética, o acumulador precisa ser inicializado com um valor neutro em adição e subtração, e inicializada com o valor 1 em caso de operação de multiplicação."
   ]
  },
  {
   "cell_type": "code",
   "execution_count": 11,
   "metadata": {},
   "outputs": [
    {
     "name": "stdout",
     "output_type": "stream",
     "text": [
      "Soma de um número consecutivamente: \n",
      "5\n",
      "5\n",
      "5\n",
      "5\n",
      "5\n",
      "5\n",
      "5\n",
      "5\n",
      "5\n",
      "5\n",
      "\n",
      "Valor: 50\n",
      "Subtração consecutiva: \n",
      "9\n",
      "6\n",
      "3\n",
      "52\n",
      "5\n",
      "55\n",
      "2\n",
      "3\n",
      "3\n",
      "\n",
      "Valor: -138 \n"
     ]
    }
   ],
   "source": [
    "#Ex.:\n",
    "\n",
    "acumulador = 0 #Inicializada com um elemento neutro.\n",
    "entrada = 0\n",
    "print('Soma de um número consecutivamente: ')\n",
    "\n",
    "for i in range(1, 11):\n",
    "    entrada = int(input())\n",
    "    acumulador += entrada\n",
    "print('\\nValor: %d' % acumulador)\n",
    "\n",
    "print('Subtração consecutiva: ')\n",
    "acumulador = 0\n",
    "\n",
    "for i in range(1, 10):\n",
    "    entrada = int(input())\n",
    "    acumulador -= entrada\n",
    "print('\\nValor: %d ' % acumulador)\n"
   ]
  },
  {
   "cell_type": "markdown",
   "metadata": {},
   "source": [
    "- Contador\n",
    "\n",
    "O contador é a varável que conta a quantidade de iterações."
   ]
  },
  {
   "cell_type": "code",
   "execution_count": null,
   "metadata": {},
   "outputs": [],
   "source": [
    "i = 1\n",
    "cont = 0\n",
    "\n",
    "for i in range(1, 12):\n",
    "    \n",
    "    print(i)\n",
    "    cont += 1\n",
    "    \n",
    "print(\"\\nQuantidade de iterações: %d\\n\" % cont)\n",
    "\n",
    "cont = 0\n",
    "\n",
    "for i in range(1, 18):\n",
    "    \n",
    "    print(i)\n",
    "    cont += 1\n",
    "    \n",
    "print(\"\\nQuantidade de iterações: %d\" % cont)"
   ]
  },
  {
   "cell_type": "markdown",
   "metadata": {},
   "source": [
    "## Conclusão\n",
    "\n",
    "Existem três tipos de range( ) em Python:\n",
    "    \n",
    "- range(VALOR_FINAL)\n",
    "- range(VALOR_INICIAL, VALOR_FINAL)\n",
    "- range(VALOR_INICIAL, VALOR_FINAL, PASSO)"
   ]
  },
  {
   "cell_type": "markdown",
   "metadata": {},
   "source": [
    "## 2) Estrutura de repetição ENQUANTO\n",
    "\n",
    "Esta estrutura é para quando não se sabe o número de repetições de um trecho de código, embora também possa ser utilizada quando se conheçe este número.\n",
    "Esta estrutura de repetição se baseia na analise de um condição, o comando **ENQUANTO** continuará a se repetir enquanto a condição se mostrar verdadeira.\n",
    "Caso a condição no início da estrutura ENQUANTO não for verdadeira, o código dentro do seu escopo não será executado\n",
    "\n",
    "Em Python o algoritmo é:\n",
    "\n",
    "ENQUANTO CONDIÇÃO:\n",
    "    comando1\n",
    "    comando2\n",
    "FIM\n",
    "\n",
    "Se a condição for verdadeira os comandos serão executados."
   ]
  },
  {
   "cell_type": "code",
   "execution_count": null,
   "metadata": {},
   "outputs": [],
   "source": [
    "while 5 > 4: #Será executado\n",
    "    print('Verdadeiro!')\n",
    "    break;\n",
    "    \n",
    "while 5 < 4: #Não será executado\n",
    "    print('Falso!')\n"
   ]
  },
  {
   "cell_type": "markdown",
   "metadata": {},
   "source": [
    "Este código acima será infinito se não colocarmos o break para parar o código.\n",
    "\n",
    "Existe a sintaxe também de declaramos todo o bloco de código a ser executado em uma única linha, desta forma:"
   ]
  },
  {
   "cell_type": "code",
   "execution_count": null,
   "metadata": {},
   "outputs": [],
   "source": [
    "a, b = 5, 8\n",
    "while (a < b): print('Correto!'); break\n",
    "#Em uma única linha."
   ]
  },
  {
   "cell_type": "markdown",
   "metadata": {},
   "source": [
    "Enquanto X for menor que Y o while( ) continuará a iterar.\n",
    "\n",
    "Observe que o **else** também pode ser usado com o while( ), else quer dizer \"se não\", ou seja, se a condição não for verdadeira, executará o código dentro do bloco de **ELSE**"
   ]
  },
  {
   "cell_type": "code",
   "execution_count": 1,
   "metadata": {},
   "outputs": [
    {
     "name": "stdout",
     "output_type": "stream",
     "text": [
      "Iterando\n",
      "Iterando\n",
      "Iterando\n",
      "Iterando\n",
      "Iterando\n",
      "Não iterando\n"
     ]
    }
   ],
   "source": [
    "X, Y = 0, 5\n",
    "while X < Y:\n",
    "    X = X + 2\n",
    "    Y = Y + 1\n",
    "    print('Iterando')\n",
    "else:\n",
    "    print('Não iterando')"
   ]
  },
  {
   "cell_type": "markdown",
   "metadata": {},
   "source": [
    "Mais código..."
   ]
  },
  {
   "cell_type": "code",
   "execution_count": 17,
   "metadata": {},
   "outputs": [
    {
     "name": "stdout",
     "output_type": "stream",
     "text": [
      "Valor de cont: 2\n",
      "Valor de cont: 3\n",
      "Valor de cont: 4\n",
      "Valor de cont: 5\n",
      "Valor de cont: 6\n",
      "Valor de cont: 7\n",
      "Valor de cont: 8\n",
      "Valor de cont: 9\n",
      "Valor de cont: 10\n",
      "Valor de cont: 11\n",
      "Valor de cont: 12\n",
      "Valor de cont: 13\n",
      "Valor de cont: 14\n",
      "Valor de cont: 15\n",
      "Loop parou...\n",
      "\n",
      "Tabuada\n",
      "5 vezes 0 = 0\n",
      "5 vezes 1 = 5\n",
      "5 vezes 2 = 10\n",
      "5 vezes 3 = 15\n",
      "5 vezes 4 = 20\n",
      "5 vezes 5 = 25\n",
      "5 vezes 6 = 30\n",
      "5 vezes 7 = 35\n",
      "5 vezes 8 = 40\n",
      "5 vezes 9 = 45\n",
      "5 vezes 10 = 50\n",
      "\n",
      "Soletrando letras...\n",
      "Partes do nome: R\n",
      "Partes do nome: a\n",
      "Partes do nome: p\n",
      "Partes do nome: h\n",
      "Partes do nome: a\n",
      "Partes do nome: e\n",
      "Partes do nome: l\n",
      "Letra: E\n",
      "Letra: l\n",
      "Letra: z\n",
      "Letra: e\n",
      "Letra: n\n",
      "Letra: r\n",
      "Letra:  \n",
      "Letra: M\n",
      "Letra: e\n"
     ]
    }
   ],
   "source": [
    "cont = 1\n",
    "\n",
    "while cont < 15:\n",
    "    cont += 1\n",
    "    print('Valor de cont: {}'.format(cont))\n",
    "else:\n",
    "    print('Loop parou...')\n",
    "\n",
    "numero = 5; cont = 0;\n",
    "\n",
    "print('\\nTabuada')\n",
    "while cont < 11:\n",
    "    print('{} vezes {} = {}'.format(numero, cont, numero * cont))\n",
    "    cont += 1\n",
    "\n",
    "string = 'Raphael'; cont = 0;\n",
    "\n",
    "print('\\nSoletrando letras...')\n",
    "while cont < len(string):\n",
    "    print('Partes do nome:', string[cont])\n",
    "    cont += 1;\n",
    "\n",
    "string_dois = 'Elzenar Mae'; cont = 0;\n",
    "\n",
    "while cont < len(string_dois):\n",
    "    if string_dois[cont] == 'a':\n",
    "        cont += 1\n",
    "        continue\n",
    "    print('Letra: {}'.format(string_dois[cont]))\n",
    "    cont+=1;\n"
   ]
  },
  {
   "cell_type": "markdown",
   "metadata": {},
   "source": [
    "O continue presente nesta última célula quer dizer que o código vai ignorar o 'a'."
   ]
  },
  {
   "cell_type": "code",
   "execution_count": null,
   "metadata": {},
   "outputs": [],
   "source": []
  }
 ],
 "metadata": {
  "kernelspec": {
   "display_name": "Python 3",
   "language": "python",
   "name": "python3"
  },
  "language_info": {
   "codemirror_mode": {
    "name": "ipython",
    "version": 3
   },
   "file_extension": ".py",
   "mimetype": "text/x-python",
   "name": "python",
   "nbconvert_exporter": "python",
   "pygments_lexer": "ipython3",
   "version": "3.8.5"
  }
 },
 "nbformat": 4,
 "nbformat_minor": 4
}
