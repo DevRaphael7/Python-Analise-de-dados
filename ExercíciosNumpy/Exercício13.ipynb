{
 "cells": [
  {
   "cell_type": "markdown",
   "metadata": {},
   "source": [
    "# 13° Exercício\n",
    "Crie duas matrizes 10 x 5 e retorne a soma consecutiva dessas matrizes. \n",
    "\n",
    "**Obs.:** a soma consecutiva é a soma de todos os elementos dentro de um array ou matriz, em Numpy usamos a função sum() para nos retornar a soma consecutiva dos elementos"
   ]
  },
  {
   "cell_type": "code",
   "execution_count": 7,
   "metadata": {},
   "outputs": [
    {
     "name": "stdout",
     "output_type": "stream",
     "text": [
      "Soma consecutiva da matriz A: \n",
      " 1275\n",
      "\n",
      "\n",
      "Soma consecutiva da matriz B: \n",
      " 1275\n",
      "\n",
      "\n",
      "Total:  2550\n"
     ]
    }
   ],
   "source": [
    "import numpy as np\n",
    "\n",
    "A = np.arange(1, 51).reshape(10, 5)\n",
    "B = np.arange(1, 51).reshape(10, 5)\n",
    "\n",
    "print('Soma consecutiva da matriz A: \\n', A.sum())\n",
    "print('\\n')\n",
    "print('Soma consecutiva da matriz B: \\n', B.sum())\n",
    "print('\\n\\nTotal: ', A.sum() + B.sum())"
   ]
  },
  {
   "cell_type": "code",
   "execution_count": null,
   "metadata": {},
   "outputs": [],
   "source": []
  }
 ],
 "metadata": {
  "kernelspec": {
   "display_name": "Python 3",
   "language": "python",
   "name": "python3"
  },
  "language_info": {
   "codemirror_mode": {
    "name": "ipython",
    "version": 3
   },
   "file_extension": ".py",
   "mimetype": "text/x-python",
   "name": "python",
   "nbconvert_exporter": "python",
   "pygments_lexer": "ipython3",
   "version": "3.8.5"
  }
 },
 "nbformat": 4,
 "nbformat_minor": 4
}
