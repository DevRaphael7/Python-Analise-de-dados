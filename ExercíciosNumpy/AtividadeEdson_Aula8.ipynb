{
 "cells": [
  {
   "cell_type": "code",
   "execution_count": 2,
   "metadata": {},
   "outputs": [
    {
     "name": "stdout",
     "output_type": "stream",
     "text": [
      "[[ 1  2  3  4  5]\n",
      " [ 7 -2 -6  1 -2]\n",
      " [ 4  5 -3  3  9]\n",
      " [ 4  6  7  2 -1]\n",
      " [ 8 -8  8 -8  9]]\n"
     ]
    }
   ],
   "source": [
    "import numpy as np\n",
    "a = np.array([[1, 2, 3, 4, 5], [7, -2, -6, 1, -2], [4, 5, -3, 3, 9], [4, 6, 7, 2, -1], [8, -8, 8, -8, 9]])\n",
    "print(a)"
   ]
  },
  {
   "cell_type": "code",
   "execution_count": null,
   "metadata": {},
   "outputs": [],
   "source": [
    "# Obtem a primeira linha (0), o primeiro valor (1),(começa o fatiamento) na coluna índice quatro (4) e na última coluna (5 ou 4)\n",
    "print(a[0:1, 4:5])"
   ]
  },
  {
   "cell_type": "code",
   "execution_count": null,
   "metadata": {},
   "outputs": [],
   "source": [
    "print(a[1:2, 3:4])"
   ]
  },
  {
   "cell_type": "code",
   "execution_count": null,
   "metadata": {},
   "outputs": [],
   "source": [
    "print(a[0:1, 0:1])"
   ]
  },
  {
   "cell_type": "code",
   "execution_count": null,
   "metadata": {},
   "outputs": [],
   "source": [
    "print(a[1:2, 1:2])"
   ]
  },
  {
   "cell_type": "markdown",
   "metadata": {},
   "source": [
    "- Apresente os valores da Diagonal Principal\n",
    "\n",
    "- Apresente os valores da Diagonal Secundária\n",
    "\n",
    "- Apresente o somatório da Diagonal principal\n",
    "\n",
    "- Apresente o somatório da Diagonal secundária"
   ]
  },
  {
   "cell_type": "code",
   "execution_count": 3,
   "metadata": {},
   "outputs": [
    {
     "name": "stdout",
     "output_type": "stream",
     "text": [
      "Diagonal secundária\n",
      "[[5]]\n",
      "[[1]]\n",
      "[[-3]]\n",
      "[[6]]\n",
      "[[8]]\n",
      "\n",
      "Diagonal principal\n",
      "[[1]]\n",
      "[[-2]]\n",
      "[[-3]]\n",
      "[[2]]\n",
      "[[9]]\n",
      "7\n",
      "17\n"
     ]
    }
   ],
   "source": [
    "aux_tres = 0; aux_quatro = 1;\n",
    "aux_um = 4; aux_dois = 5;\n",
    "\n",
    "soma_um = 0; soma_dois = 0\n",
    "\n",
    "print('Diagonal secundária')\n",
    "for k, v in enumerate(a):\n",
    "    print(a[aux_tres:aux_quatro, aux_um:aux_dois])\n",
    "    soma_dois += int(a[aux_um:aux_dois, aux_tres:aux_quatro])\n",
    "    aux_um -= 1; aux_dois -= 1; aux_tres += 1; aux_quatro += 1\n",
    "    \n",
    "aux_tres = 0; aux_quatro = 1;\n",
    "aux_um = 0; aux_dois = 1;\n",
    "\n",
    "print('\\nDiagonal principal')\n",
    "for k, v in enumerate(a):\n",
    "    print(a[aux_um:aux_dois, aux_tres:aux_quatro])\n",
    "    soma_um += int(a[aux_um:aux_dois, aux_tres:aux_quatro])\n",
    "    aux_um += 1; aux_dois += 1; aux_tres += 1; aux_quatro += 1\n",
    "\n",
    "print(soma_um)\n",
    "print(soma_dois)"
   ]
  },
  {
   "cell_type": "code",
   "execution_count": null,
   "metadata": {},
   "outputs": [],
   "source": []
  }
 ],
 "metadata": {
  "kernelspec": {
   "display_name": "Python 3",
   "language": "python",
   "name": "python3"
  },
  "language_info": {
   "codemirror_mode": {
    "name": "ipython",
    "version": 3
   },
   "file_extension": ".py",
   "mimetype": "text/x-python",
   "name": "python",
   "nbconvert_exporter": "python",
   "pygments_lexer": "ipython3",
   "version": "3.8.5"
  }
 },
 "nbformat": 4,
 "nbformat_minor": 4
}
