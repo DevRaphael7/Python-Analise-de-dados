{
 "cells": [
  {
   "cell_type": "markdown",
   "metadata": {},
   "source": [
    "# 20° Exercício \n",
    "\n",
    "## 1) Subtração"
   ]
  },
  {
   "cell_type": "code",
   "execution_count": 2,
   "metadata": {},
   "outputs": [],
   "source": [
    "import numpy as np"
   ]
  },
  {
   "cell_type": "code",
   "execution_count": 4,
   "metadata": {},
   "outputs": [
    {
     "name": "stdout",
     "output_type": "stream",
     "text": [
      "[[ -3  16 -17 -31]\n",
      " [  2   7  16 -17]\n",
      " [  4 -17 -21 -33]]\n"
     ]
    }
   ],
   "source": [
    "A = np.array([[4, 11, 1, 3], [-6, 13, 0, 4], [8, -10, -2, -5]])\n",
    "B = np.array([[7, -5, 18, 34], [-8, 6, -16, 21], [4, 7, 19, 28]])\n",
    "\n",
    "print(A - B)"
   ]
  },
  {
   "cell_type": "code",
   "execution_count": 5,
   "metadata": {},
   "outputs": [
    {
     "name": "stdout",
     "output_type": "stream",
     "text": [
      "[[ -2 -20]\n",
      " [ 14 -21]\n",
      " [ -2  -6]]\n"
     ]
    }
   ],
   "source": [
    "A = np.array([[5, -10], [6, -9], [7, 8]])\n",
    "B= np.array([[7, 10], [-8, 12], [9, 14]])\n",
    "\n",
    "print(A - B)"
   ]
  },
  {
   "cell_type": "code",
   "execution_count": 6,
   "metadata": {},
   "outputs": [
    {
     "name": "stdout",
     "output_type": "stream",
     "text": [
      "[[ -1  -6   2 -40]\n",
      " [ -1   1 -12  12]]\n"
     ]
    }
   ],
   "source": [
    "A = np.array([[5, -7, 15, -9], [8, 10, 8, 11]])\n",
    "B = np.array([[6, -1, 13, 31], [9, 9, 20, -1]])\n",
    "\n",
    "print(A - B)"
   ]
  },
  {
   "cell_type": "code",
   "execution_count": 7,
   "metadata": {},
   "outputs": [
    {
     "name": "stdout",
     "output_type": "stream",
     "text": [
      "[[-33  -2  10]\n",
      " [  6  18  -6]]\n"
     ]
    }
   ],
   "source": [
    "A = np.array([[3, 7, 23], [-2, 8, 24]])\n",
    "B = np.array([[36, 9, 13], [-8, -10, 30]])\n",
    "\n",
    "print(A - B)"
   ]
  },
  {
   "cell_type": "code",
   "execution_count": 8,
   "metadata": {},
   "outputs": [
    {
     "name": "stdout",
     "output_type": "stream",
     "text": [
      "[[ -5  21 -11]\n",
      " [  7  36 -81]\n",
      " [  4  79  -3]]\n"
     ]
    }
   ],
   "source": [
    "A = np.array([[9, 13, 23], [-8, 45, -46], [10, 89, 36]])\n",
    "B = np.array([[14, -8, 34], [-15, 9, 35], [6, 10, 39]])\n",
    "\n",
    "print(A - B)"
   ]
  },
  {
   "cell_type": "code",
   "execution_count": 11,
   "metadata": {},
   "outputs": [
    {
     "name": "stdout",
     "output_type": "stream",
     "text": [
      "[[ -18   53   25]\n",
      " [-110  -37  110]\n",
      " [  71   20    1]]\n"
     ]
    }
   ],
   "source": [
    "A = np.array([[18, 36, 50], [-20, -19, 60],[31, 40, -37]])\n",
    "B = np.array([[36, -17, 25], [90, 18, -50], [-40, 20, -38]])\n",
    "\n",
    "print(A - B)"
   ]
  },
  {
   "cell_type": "code",
   "execution_count": 12,
   "metadata": {},
   "outputs": [
    {
     "name": "stdout",
     "output_type": "stream",
     "text": [
      "[[ -8   1 -10  -3]\n",
      " [ -7   0   4 -32]\n",
      " [  5  17 -17 -63]]\n"
     ]
    }
   ],
   "source": [
    "A = np.array([[1, 8, -7, -13], [6, -5, 8, -24], [9, 9, -10, -60]])\n",
    "B = np.array([[9, 7, 3, -10], [13, -5, 4, 8], [4, -8, 7, 3]])\n",
    "\n",
    "print(A - B)"
   ]
  },
  {
   "cell_type": "code",
   "execution_count": 13,
   "metadata": {},
   "outputs": [
    {
     "name": "stdout",
     "output_type": "stream",
     "text": [
      "[[-32  16   0]\n",
      " [-10  -4   0]\n",
      " [  1   7  -1]]\n"
     ]
    }
   ],
   "source": [
    "A = np.array([[-15, 8, 9], [3, -2, 1], [7, -1, 4]])\n",
    "B = np.array([[17, -8, 9], [13, 2, 1], [6, -8, 5]])\n",
    "\n",
    "print(A - B)"
   ]
  },
  {
   "cell_type": "code",
   "execution_count": 14,
   "metadata": {},
   "outputs": [
    {
     "name": "stdout",
     "output_type": "stream",
     "text": [
      "[[14 -2 17]\n",
      " [ 0 20 29]]\n"
     ]
    }
   ],
   "source": [
    "A = np.array([[-8, 13, 16], [9, 14, 21]])\n",
    "B = np.array([[-22, 15, -1], [9, -6, -8]])\n",
    "\n",
    "print(A - B)"
   ]
  },
  {
   "cell_type": "code",
   "execution_count": 15,
   "metadata": {},
   "outputs": [
    {
     "name": "stdout",
     "output_type": "stream",
     "text": [
      "[[-17  44]\n",
      " [ 13 -88]]\n"
     ]
    }
   ],
   "source": [
    "A = np.array([[19, 36], [22, -84]])\n",
    "B = np.array([[36, -8], [9, 4]])\n",
    "\n",
    "print(A - B)"
   ]
  },
  {
   "cell_type": "markdown",
   "metadata": {},
   "source": [
    "## 2) Multiplicação"
   ]
  },
  {
   "cell_type": "code",
   "execution_count": 17,
   "metadata": {},
   "outputs": [
    {
     "name": "stdout",
     "output_type": "stream",
     "text": [
      "[[ 95 107]\n",
      " [159 198]]\n"
     ]
    }
   ],
   "source": [
    "A = np.array([[5, 3, 10], [6, 9, 15]])\n",
    "B = np.array([[4, 2], [5, 9], [6, 7]])\n",
    "\n",
    "print(np.dot(A, B))"
   ]
  },
  {
   "cell_type": "code",
   "execution_count": 18,
   "metadata": {},
   "outputs": [
    {
     "name": "stdout",
     "output_type": "stream",
     "text": [
      "[[146  86]\n",
      " [117  67]]\n"
     ]
    }
   ],
   "source": [
    "A = np.array([[8, 6, 4, 5, 10],[10, 7, 8, -9, 7]])\n",
    "B = np.array([[8, 10], [5, -1], [3, 3], [4, 4], [2, -2]])\n",
    "\n",
    "print(np.dot(A, B))"
   ]
  },
  {
   "cell_type": "code",
   "execution_count": 19,
   "metadata": {},
   "outputs": [
    {
     "name": "stdout",
     "output_type": "stream",
     "text": [
      "[[ 67   0]\n",
      " [-24  25]]\n"
     ]
    }
   ],
   "source": [
    "A = np.array([[8, -7], [-1, 4]])\n",
    "B = np.array([[4, 7], [-5, 8]])\n",
    "\n",
    "print(np.dot(A , B))\n",
    "\n"
   ]
  },
  {
   "cell_type": "code",
   "execution_count": 20,
   "metadata": {},
   "outputs": [
    {
     "name": "stdout",
     "output_type": "stream",
     "text": [
      "[[300 173]\n",
      " [379 252]]\n"
     ]
    }
   ],
   "source": [
    "A = np.array([[4, 5, 8, 10], [9, 11, 12, 5]])\n",
    "B = np.array([[5, 6], [4, 7], [20, 8], [10, 5]])\n",
    "\n",
    "print(np.dot(A, B))"
   ]
  },
  {
   "cell_type": "code",
   "execution_count": 21,
   "metadata": {},
   "outputs": [
    {
     "name": "stdout",
     "output_type": "stream",
     "text": [
      "[[222]\n",
      " [101]]\n"
     ]
    }
   ],
   "source": [
    "A = np.array([[5, 4, 3, 2, 9, 10], [4, -13, 7, 12, 14, 2]])\n",
    "B = np.array([[8], [9], [4], [5], [6], [7]])\n",
    "\n",
    "print(np.dot(A, B))"
   ]
  },
  {
   "cell_type": "code",
   "execution_count": null,
   "metadata": {},
   "outputs": [],
   "source": []
  }
 ],
 "metadata": {
  "kernelspec": {
   "display_name": "Python 3",
   "language": "python",
   "name": "python3"
  },
  "language_info": {
   "codemirror_mode": {
    "name": "ipython",
    "version": 3
   },
   "file_extension": ".py",
   "mimetype": "text/x-python",
   "name": "python",
   "nbconvert_exporter": "python",
   "pygments_lexer": "ipython3",
   "version": "3.8.5"
  }
 },
 "nbformat": 4,
 "nbformat_minor": 4
}
