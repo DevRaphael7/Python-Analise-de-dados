{
 "cells": [
  {
   "cell_type": "markdown",
   "metadata": {},
   "source": [
    "# 2° Exercício\n",
    "### Converta um array 1D em uma Matriz 3X3 em Numpy"
   ]
  },
  {
   "cell_type": "code",
   "execution_count": 8,
   "metadata": {},
   "outputs": [
    {
     "name": "stdout",
     "output_type": "stream",
     "text": [
      "Matriz 1D: [0 1 2 3 4 5 6 7 8]\n",
      "\n",
      "Matriz 2D: \n",
      "\n",
      "[[0 1 2]\n",
      " [3 4 5]\n",
      " [6 7 8]]\n"
     ]
    }
   ],
   "source": [
    "# Solução:\n",
    "\n",
    "import numpy as np\n",
    "\n",
    "array_ale = np.arange(9)\n",
    "\n",
    "print('Matriz 1D: {}'.format(array_ale))\n",
    "\n",
    "array_ale = array_ale.reshape(3, 3)\n",
    "\n",
    "print('\\nMatriz 2D: \\n\\n{}'.format(array_ale))"
   ]
  },
  {
   "cell_type": "code",
   "execution_count": null,
   "metadata": {},
   "outputs": [],
   "source": []
  }
 ],
 "metadata": {
  "kernelspec": {
   "display_name": "Python 3",
   "language": "python",
   "name": "python3"
  },
  "language_info": {
   "codemirror_mode": {
    "name": "ipython",
    "version": 3
   },
   "file_extension": ".py",
   "mimetype": "text/x-python",
   "name": "python",
   "nbconvert_exporter": "python",
   "pygments_lexer": "ipython3",
   "version": "3.8.5"
  }
 },
 "nbformat": 4,
 "nbformat_minor": 4
}
