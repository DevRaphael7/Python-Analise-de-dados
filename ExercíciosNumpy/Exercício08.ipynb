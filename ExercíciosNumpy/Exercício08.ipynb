{
 "cells": [
  {
   "cell_type": "markdown",
   "metadata": {},
   "source": [
    "# 8° Exercício\n",
    "Crie três matrizes: 3x4, 5x6, 2x3 e multiplique a primeira por 2, a segunda por 5 e a terceira 4."
   ]
  },
  {
   "cell_type": "code",
   "execution_count": 9,
   "metadata": {},
   "outputs": [
    {
     "name": "stdout",
     "output_type": "stream",
     "text": [
      "Matriz um: \n",
      "[[ 0  2  4  6]\n",
      " [ 8 10 12 14]\n",
      " [16 18 20 22]]\n",
      "Matriz dois: \n",
      "[[  0   5  10  15  20  25]\n",
      " [ 30  35  40  45  50  55]\n",
      " [ 60  65  70  75  80  85]\n",
      " [ 90  95 100 105 110 115]\n",
      " [120 125 130 135 140 145]]\n",
      "Matriz três: \n",
      "[[ 0  4  8]\n",
      " [12 16 20]]\n"
     ]
    }
   ],
   "source": [
    "import numpy as np\n",
    "\n",
    "matriz1 = np.arange(12).reshape(3, 4)\n",
    "matriz2 = np.arange(30).reshape(5, 6)\n",
    "matriz3 = np.arange(6).reshape(2, 3)\n",
    "\n",
    "print('Matriz um: \\n{}'.format(matriz1 * 2))\n",
    "print('Matriz dois: \\n{}'.format(matriz2 * 5))\n",
    "print('Matriz três: \\n{}'.format(matriz3 * 4))"
   ]
  },
  {
   "cell_type": "code",
   "execution_count": null,
   "metadata": {},
   "outputs": [],
   "source": []
  }
 ],
 "metadata": {
  "kernelspec": {
   "display_name": "Python 3",
   "language": "python",
   "name": "python3"
  },
  "language_info": {
   "codemirror_mode": {
    "name": "ipython",
    "version": 3
   },
   "file_extension": ".py",
   "mimetype": "text/x-python",
   "name": "python",
   "nbconvert_exporter": "python",
   "pygments_lexer": "ipython3",
   "version": "3.8.5"
  }
 },
 "nbformat": 4,
 "nbformat_minor": 4
}
