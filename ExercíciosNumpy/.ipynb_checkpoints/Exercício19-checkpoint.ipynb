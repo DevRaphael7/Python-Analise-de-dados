{
 "cells": [
  {
   "cell_type": "markdown",
   "metadata": {},
   "source": [
    "# Exercício 19\n",
    "\n",
    "Faça duas matrizes com o mesmo número de dimensões e compare cada uma delas usando os operadores: (<) menor, (>) maior, (==) comparação e (!=) diferente\n",
    "\n",
    "**Obs.:** o que será comparado é os elementos individualmente de cada matriz"
   ]
  },
  {
   "cell_type": "code",
   "execution_count": 6,
   "metadata": {},
   "outputs": [
    {
     "name": "stdout",
     "output_type": "stream",
     "text": [
      "Matriz A é menor que matriz B: \n",
      " [[False False False]\n",
      " [ True False False]]\n",
      "Matriz A é maior que Matriz B: \n",
      " [[ True False False]\n",
      " [False  True  True]]\n",
      "Matriz A é igual a Matriz B: \n",
      " [[False  True  True]\n",
      " [False False False]]\n",
      "Matriz A é diferente de Matriz B: \n",
      " [[ True False False]\n",
      " [ True  True  True]]\n"
     ]
    }
   ],
   "source": [
    "import numpy as np\n",
    "\n",
    "A = np.array([[4, 5, 7], [7, 9, 10]])\n",
    "B = np.array([[3, 5, 7], [9, 0, 1]])\n",
    "\n",
    "print('Matriz A é menor que matriz B: \\n', A < B)\n",
    "print('Matriz A é maior que Matriz B: \\n', A > B)\n",
    "print('Matriz A é igual a Matriz B: \\n', A == B)\n",
    "print('Matriz A é diferente de Matriz B: \\n', A != B)"
   ]
  },
  {
   "cell_type": "code",
   "execution_count": null,
   "metadata": {},
   "outputs": [],
   "source": []
  }
 ],
 "metadata": {
  "kernelspec": {
   "display_name": "Python 3",
   "language": "python",
   "name": "python3"
  },
  "language_info": {
   "codemirror_mode": {
    "name": "ipython",
    "version": 3
   },
   "file_extension": ".py",
   "mimetype": "text/x-python",
   "name": "python",
   "nbconvert_exporter": "python",
   "pygments_lexer": "ipython3",
   "version": "3.8.5"
  }
 },
 "nbformat": 4,
 "nbformat_minor": 4
}
