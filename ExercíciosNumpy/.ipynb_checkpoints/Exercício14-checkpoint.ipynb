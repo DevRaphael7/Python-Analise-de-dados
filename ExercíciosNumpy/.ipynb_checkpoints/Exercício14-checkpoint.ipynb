{
 "cells": [
  {
   "cell_type": "markdown",
   "metadata": {},
   "source": [
    "# 14° Exercício\n",
    "Crie 4 matrizes: 2x4, 4x5, 5x3 e 3x4. Faça a multiplicação dessas matrizes até serem uma só matriz."
   ]
  },
  {
   "cell_type": "code",
   "execution_count": 9,
   "metadata": {},
   "outputs": [
    {
     "name": "stdout",
     "output_type": "stream",
     "text": [
      "[[589 309  74 216 137]\n",
      " [723 175  54 213 137]]\n",
      "\n",
      " [[ 526  254   86   96]\n",
      " [ 984  714  540  224]\n",
      " [ 383  202   80   92]\n",
      " [1545 1071  743  392]\n",
      " [ 370  194   84   72]]\n",
      "\n",
      "Resultado final: \n",
      " [[1026622  643094  395430  227104]\n",
      " [ 952955  574201  330765  206936]]\n"
     ]
    }
   ],
   "source": [
    "import numpy as np\n",
    "\n",
    "A = np.array([[4, 6, 7, 8], [5, 9, 10, 0]])\n",
    "B = np.array([[7, 8, 9, 10, 7], [2, 5, 1, 7, 8], [67, 9, 0, 10, 3], [10, 23, 4, 8, 5]])\n",
    "A_vezes_B = np.dot(A, B)\n",
    "print(A_vezes_B)\n",
    "\n",
    "C = np.array([[4, 2, 20], [45, 23, 10], [3, 7, 9], [56, 43, 12], [5, 3, 12]])\n",
    "D = np.array([[5, 7, 9, 0], [23, 13, 5, 8], [23, 10 ,2 ,4]])\n",
    "C_vezes_D = np.dot(C, D)\n",
    "print('\\n', C_vezes_D)\n",
    "\n",
    "print('\\nResultado final: \\n', np.dot(A_vezes_B, C_vezes_D))"
   ]
  },
  {
   "cell_type": "code",
   "execution_count": null,
   "metadata": {},
   "outputs": [],
   "source": []
  }
 ],
 "metadata": {
  "kernelspec": {
   "display_name": "Python 3",
   "language": "python",
   "name": "python3"
  },
  "language_info": {
   "codemirror_mode": {
    "name": "ipython",
    "version": 3
   },
   "file_extension": ".py",
   "mimetype": "text/x-python",
   "name": "python",
   "nbconvert_exporter": "python",
   "pygments_lexer": "ipython3",
   "version": "3.8.5"
  }
 },
 "nbformat": 4,
 "nbformat_minor": 4
}
