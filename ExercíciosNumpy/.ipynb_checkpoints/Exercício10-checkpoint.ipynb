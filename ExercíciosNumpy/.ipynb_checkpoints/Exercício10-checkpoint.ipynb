{
 "cells": [
  {
   "cell_type": "markdown",
   "metadata": {},
   "source": [
    "# 10° Exercício\n",
    "Crie 8 matrizes personalizadas em seguida realiza as seguintes operações aritméticas em pares: as duas primeiras adição, subtração, multiplicação e as duas últimas divisão."
   ]
  },
  {
   "cell_type": "code",
   "execution_count": 11,
   "metadata": {},
   "outputs": [
    {
     "name": "stdout",
     "output_type": "stream",
     "text": [
      "Soma: \n",
      " [[ 33  66 125  46  59]\n",
      " [ 90  99  51  41  33]]\n",
      "Subtração: \n",
      " [[ 10.   25.    8.   -7.    2. ]\n",
      " [ 20.    0.5  19.  -32.   -1. ]]\n",
      "Multiplicação: \n",
      " [[373 155]\n",
      " [229  84]]\n",
      "Divisão: \n",
      " [[1.         2.         2.         2.        ]\n",
      " [1.         2.5        2.33333333 3.        ]]\n"
     ]
    }
   ],
   "source": [
    "import numpy as np\n",
    "\n",
    "# Adição (+)\n",
    "A = np.array([[10, 20, 35, 23, 14], [23, 56, 45, 32, 23]])\n",
    "B = np.array([[23, 46, 90, 23, 45], [67, 43, 6, 9, 10]])\n",
    "\n",
    "# Subtração (-)\n",
    "C = np.array([[20, 45, 68, 23, 12], [32, 56, 32, 12, 6]])\n",
    "D = np.array([[10, 20, 60, 30, 10], [12, 55.5, 13, 44, 7]])\n",
    "\n",
    "# Multiplicação (*)\n",
    "E = np.array([[2, 5, 8, 9, 10], [3, 7, 1 ,4, 5]])\n",
    "F = np.array([[4, 5], [12, 4], [6, 7], [3, 1], [23, 6]])\n",
    "\n",
    "# Divisão (/)\n",
    "G = np.array([[2, 4, 6, 8], [3, 5, 7, 9]])\n",
    "H = np.array([[2, 2, 3, 4],[3, 2, 3, 3]])\n",
    "\n",
    "print('Soma: \\n', A + B)\n",
    "print('Subtração: \\n', C - D)\n",
    "print('Multiplicação: \\n', np.dot(E, F))\n",
    "print('Divisão: \\n', G / H)"
   ]
  },
  {
   "cell_type": "code",
   "execution_count": null,
   "metadata": {},
   "outputs": [],
   "source": []
  }
 ],
 "metadata": {
  "kernelspec": {
   "display_name": "Python 3",
   "language": "python",
   "name": "python3"
  },
  "language_info": {
   "codemirror_mode": {
    "name": "ipython",
    "version": 3
   },
   "file_extension": ".py",
   "mimetype": "text/x-python",
   "name": "python",
   "nbconvert_exporter": "python",
   "pygments_lexer": "ipython3",
   "version": "3.8.5"
  }
 },
 "nbformat": 4,
 "nbformat_minor": 4
}
