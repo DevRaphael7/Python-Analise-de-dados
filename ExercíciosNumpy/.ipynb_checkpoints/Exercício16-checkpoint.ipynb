{
 "cells": [
  {
   "cell_type": "markdown",
   "metadata": {},
   "source": [
    "# 16° Exercício\n",
    "\n",
    "Faça um vetor com os elementos: 2, 4, 5, 2, 7, 2 e faça a condição em que, se a condição se cumprir, então retorne TRUE, senão retorna FALSE:\n",
    "\n",
    "- se o valor for 2, TRUE\n",
    "- se o valor for diferente de 2, FALSE"
   ]
  },
  {
   "cell_type": "code",
   "execution_count": 4,
   "metadata": {},
   "outputs": [
    {
     "name": "stdout",
     "output_type": "stream",
     "text": [
      "[ True False False  True False  True]\n",
      "[ True False False  True False  True]\n"
     ]
    }
   ],
   "source": [
    "import numpy as np\n",
    "\n",
    "array = np.array([2, 4, 5, 2, 7, 2])\n",
    "\n",
    "#Existem duas formas para esse problema\n",
    "print(array == 2)\n",
    "\n",
    "print(np.where(array == 2, True, False))"
   ]
  },
  {
   "cell_type": "code",
   "execution_count": null,
   "metadata": {},
   "outputs": [],
   "source": []
  }
 ],
 "metadata": {
  "kernelspec": {
   "display_name": "Python 3",
   "language": "python",
   "name": "python3"
  },
  "language_info": {
   "codemirror_mode": {
    "name": "ipython",
    "version": 3
   },
   "file_extension": ".py",
   "mimetype": "text/x-python",
   "name": "python",
   "nbconvert_exporter": "python",
   "pygments_lexer": "ipython3",
   "version": "3.8.5"
  }
 },
 "nbformat": 4,
 "nbformat_minor": 4
}
