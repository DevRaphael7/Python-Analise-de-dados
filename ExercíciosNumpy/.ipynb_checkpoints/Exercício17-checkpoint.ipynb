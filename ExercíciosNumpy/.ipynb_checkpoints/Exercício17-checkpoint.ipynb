{
 "cells": [
  {
   "cell_type": "markdown",
   "metadata": {},
   "source": [
    "# 17° Exercício\n",
    "\n",
    "Faça uma matriz e retorne a matriz ao quadrado e ao cubo dessa mesma matriz."
   ]
  },
  {
   "cell_type": "code",
   "execution_count": 8,
   "metadata": {},
   "outputs": [
    {
     "name": "stdout",
     "output_type": "stream",
     "text": [
      "Quadrado: \n",
      "[[  1   4   9  16]\n",
      " [ 25  36  49  64]\n",
      " [ 81 100 121 144]\n",
      " [169 196 225 256]]\n",
      "\n",
      "Cubo: \n",
      "[[   1    8   27   64]\n",
      " [ 125  216  343  512]\n",
      " [ 729 1000 1331 1728]\n",
      " [2197 2744 3375 4096]]\n",
      "\n"
     ]
    }
   ],
   "source": [
    "import numpy as np\n",
    "\n",
    "A = np.arange(1, 17).reshape(4, 4)\n",
    "\n",
    "print('Quadrado: \\n{}\\n'.format(A ** 2))\n",
    "print('Cubo: \\n{}\\n'.format(A ** 3))"
   ]
  },
  {
   "cell_type": "code",
   "execution_count": null,
   "metadata": {},
   "outputs": [],
   "source": []
  }
 ],
 "metadata": {
  "kernelspec": {
   "display_name": "Python 3",
   "language": "python",
   "name": "python3"
  },
  "language_info": {
   "codemirror_mode": {
    "name": "ipython",
    "version": 3
   },
   "file_extension": ".py",
   "mimetype": "text/x-python",
   "name": "python",
   "nbconvert_exporter": "python",
   "pygments_lexer": "ipython3",
   "version": "3.8.5"
  }
 },
 "nbformat": 4,
 "nbformat_minor": 4
}
