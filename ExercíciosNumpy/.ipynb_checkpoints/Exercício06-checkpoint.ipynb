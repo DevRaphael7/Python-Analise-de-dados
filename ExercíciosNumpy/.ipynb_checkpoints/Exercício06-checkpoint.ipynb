{
 "cells": [
  {
   "cell_type": "markdown",
   "metadata": {},
   "source": [
    "# 6° Exercício\n",
    "Crie uma matriz de 20 elementos, e substitua todos os elementos pares por 1 e todos os elementos impares por 2, e imprima a mensagem na tela"
   ]
  },
  {
   "cell_type": "code",
   "execution_count": 13,
   "metadata": {},
   "outputs": [
    {
     "name": "stdout",
     "output_type": "stream",
     "text": [
      "Array: [ 1  2  3  4  5  6  7  8  9 10 11 12 13 14 15 16 17 18 19 20]\n",
      "\n",
      "\n",
      "Array (pares 1, impares 2 ): [2 1 2 1 2 1 2 1 2 1 2 1 2 1 2 1 2 1 2 1]\n"
     ]
    }
   ],
   "source": [
    "# Solução:\n",
    "import numpy as np\n",
    "\n",
    "array = np.arange(1, 21)\n",
    "\n",
    "print('Array: {}'.format(array))\n",
    "\n",
    "print('\\n')\n",
    "\n",
    "array = np.where(array % 2 == 0, 1, 2)\n",
    "\n",
    "\n",
    "print('Array (pares 1, impares 2 ): {}'.format(array))"
   ]
  },
  {
   "cell_type": "code",
   "execution_count": null,
   "metadata": {},
   "outputs": [],
   "source": []
  }
 ],
 "metadata": {
  "kernelspec": {
   "display_name": "Python 3",
   "language": "python",
   "name": "python3"
  },
  "language_info": {
   "codemirror_mode": {
    "name": "ipython",
    "version": 3
   },
   "file_extension": ".py",
   "mimetype": "text/x-python",
   "name": "python",
   "nbconvert_exporter": "python",
   "pygments_lexer": "ipython3",
   "version": "3.8.5"
  }
 },
 "nbformat": 4,
 "nbformat_minor": 4
}
