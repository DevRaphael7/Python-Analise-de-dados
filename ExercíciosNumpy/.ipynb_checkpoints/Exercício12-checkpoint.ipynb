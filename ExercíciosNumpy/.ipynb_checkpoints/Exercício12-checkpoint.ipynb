{
 "cells": [
  {
   "cell_type": "markdown",
   "metadata": {},
   "source": [
    "# 12° Exercício\n",
    "Crie duas matrizes personalizadas com as dimensões: 2x5. Mostre essas duas matrizes e a soma delas."
   ]
  },
  {
   "cell_type": "code",
   "execution_count": 7,
   "metadata": {},
   "outputs": [
    {
     "name": "stdout",
     "output_type": "stream",
     "text": [
      "Matriz A: \n",
      "[[ 30 434  76  33  12]\n",
      " [345  56  67  32  12]]\n",
      "Matriz B: \n",
      "[[ 23  56  78  32  45]\n",
      " [454  23  56  78  43]]\n",
      "\n",
      "Resulatdo da soma: \n",
      "[[ 53 490 154  65  57]\n",
      " [799  79 123 110  55]]\n"
     ]
    }
   ],
   "source": [
    "import numpy as np\n",
    "\n",
    "A = np.array([[30, 434, 76, 33, 12], [345, 56, 67, 32, 12]])\n",
    "B = np.array([[23, 56, 78, 32, 45], [454, 23, 56, 78, 43]])\n",
    "\n",
    "print('Matriz A: \\n{}\\nMatriz B: \\n{}\\n'.format(A, B))\n",
    "print('Resulatdo da soma: \\n{}'.format(A + B))"
   ]
  },
  {
   "cell_type": "code",
   "execution_count": null,
   "metadata": {},
   "outputs": [],
   "source": []
  }
 ],
 "metadata": {
  "kernelspec": {
   "display_name": "Python 3",
   "language": "python",
   "name": "python3"
  },
  "language_info": {
   "codemirror_mode": {
    "name": "ipython",
    "version": 3
   },
   "file_extension": ".py",
   "mimetype": "text/x-python",
   "name": "python",
   "nbconvert_exporter": "python",
   "pygments_lexer": "ipython3",
   "version": "3.8.5"
  }
 },
 "nbformat": 4,
 "nbformat_minor": 4
}
