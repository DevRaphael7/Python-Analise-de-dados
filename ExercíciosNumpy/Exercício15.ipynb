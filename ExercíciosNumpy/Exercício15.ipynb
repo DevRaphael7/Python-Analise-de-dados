{
 "cells": [
  {
   "cell_type": "markdown",
   "metadata": {},
   "source": [
    "# 15° Exercício\n",
    "\n",
    "Crie duas matrizes personalizadas de 4 x 5 e realize a subtração das mesmas."
   ]
  },
  {
   "cell_type": "code",
   "execution_count": null,
   "metadata": {},
   "outputs": [],
   "source": [
    "import numpy as np\n",
    "\n",
    "A = np.array([[2, 4, 7, 9, 10], [45, 1 , 0, 2, 10], [78, 10, 3, 4, 6], [45, 20, 12, 45, 14]])\n",
    "B = np.array([[4, 9, 2, 1, 8], [2, 23 , 5, 6, 7], [78, 789, 7, 5, 2], [5, 230, 122, 5, 4]])\n",
    "\n",
    "print(A - B)"
   ]
  }
 ],
 "metadata": {
  "kernelspec": {
   "display_name": "Python 3",
   "language": "python",
   "name": "python3"
  },
  "language_info": {
   "codemirror_mode": {
    "name": "ipython",
    "version": 3
   },
   "file_extension": ".py",
   "mimetype": "text/x-python",
   "name": "python",
   "nbconvert_exporter": "python",
   "pygments_lexer": "ipython3",
   "version": "3.8.5"
  }
 },
 "nbformat": 4,
 "nbformat_minor": 4
}
