{
 "cells": [
  {
   "cell_type": "markdown",
   "metadata": {},
   "source": [
    "# 7° Exercício\n",
    "Crie duas matrizes 5x2, em seguida somar essas matrizes."
   ]
  },
  {
   "cell_type": "code",
   "execution_count": 6,
   "metadata": {},
   "outputs": [
    {
     "name": "stdout",
     "output_type": "stream",
     "text": [
      "Soma: \n",
      "[[ 0  2]\n",
      " [ 4  6]\n",
      " [ 8 10]\n",
      " [12 14]\n",
      " [16 18]]\n"
     ]
    }
   ],
   "source": [
    "# Solução:\n",
    "import numpy as np\n",
    "\n",
    "matriz1 = np.arange(10).reshape(5,2)\n",
    "matriz2 = np.arange(10).reshape(5, 2)\n",
    "\n",
    "print('Soma: \\n{}'.format(matriz1 + matriz2))"
   ]
  },
  {
   "cell_type": "code",
   "execution_count": null,
   "metadata": {},
   "outputs": [],
   "source": []
  }
 ],
 "metadata": {
  "kernelspec": {
   "display_name": "Python 3",
   "language": "python",
   "name": "python3"
  },
  "language_info": {
   "codemirror_mode": {
    "name": "ipython",
    "version": 3
   },
   "file_extension": ".py",
   "mimetype": "text/x-python",
   "name": "python",
   "nbconvert_exporter": "python",
   "pygments_lexer": "ipython3",
   "version": "3.8.5"
  }
 },
 "nbformat": 4,
 "nbformat_minor": 4
}
