{
 "cells": [
  {
   "cell_type": "markdown",
   "metadata": {},
   "source": [
    "# 5° Exercício\n",
    "### Crie duas matriz e realize a multiplicação das mesmas"
   ]
  },
  {
   "cell_type": "code",
   "execution_count": 13,
   "metadata": {},
   "outputs": [
    {
     "name": "stdout",
     "output_type": "stream",
     "text": [
      "Resultado: \n",
      "[[ 150  160  170  180  190  200  210]\n",
      " [ 334  360  386  412  438  464  490]\n",
      " [ 518  560  602  644  686  728  770]\n",
      " [ 702  760  818  876  934  992 1050]]\n"
     ]
    }
   ],
   "source": [
    "# Solução:\n",
    "import numpy as np\n",
    "\n",
    "Matriz_um, Matriz_dois = np.arange(1, 17).reshape(4, 4), np.arange(1, 29).reshape(4, 7)\n",
    "\n",
    "print('Resultado: \\n{}'.format(np.dot(Matriz_um, Matriz_dois)))\n",
    "# Usamos np.dot( ) para multiplicar Matrizes"
   ]
  },
  {
   "cell_type": "code",
   "execution_count": null,
   "metadata": {},
   "outputs": [],
   "source": []
  }
 ],
 "metadata": {
  "kernelspec": {
   "display_name": "Python 3",
   "language": "python",
   "name": "python3"
  },
  "language_info": {
   "codemirror_mode": {
    "name": "ipython",
    "version": 3
   },
   "file_extension": ".py",
   "mimetype": "text/x-python",
   "name": "python",
   "nbconvert_exporter": "python",
   "pygments_lexer": "ipython3",
   "version": "3.8.5"
  }
 },
 "nbformat": 4,
 "nbformat_minor": 4
}
