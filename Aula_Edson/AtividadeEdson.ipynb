{
 "cells": [
  {
   "cell_type": "code",
   "execution_count": 1,
   "metadata": {},
   "outputs": [
    {
     "data": {
      "text/plain": [
       "'Sistemas de Informação'"
      ]
     },
     "execution_count": 1,
     "metadata": {},
     "output_type": "execute_result"
    }
   ],
   "source": [
    "alunos = []\n",
    "alunos.append({'nome': 'Aluno 01', 'curso': 'Ciências da Computação', 'AV1':8 })\n",
    "alunos.append({'nome': 'Aluno 02', 'curso': 'Sistemas de Informação', 'AV1':7 })\n",
    "alunos.append({'nome': 'Aluno 03', 'curso': 'Sistemas de Informação', 'AV1':6 })\n",
    "alunos.append({'nome': 'Aluno 04', 'curso': 'Sistemas de Informação', 'AV1':6 })\n",
    "alunos.append({'nome': 'Aluno 05', 'curso': 'Sistemas de Informação', 'AV1':6 })\n",
    "alunos.append({'nome': 'Aluno 06', 'curso': 'Análise e Desenvolvimento de Sistemas', 'AV1':7 })\n",
    "alunos.append({'nome': 'Aluno 07', 'curso': 'Análise e Desenvolvimento de Sistemas', 'AV1':9 })\n",
    "alunos.append({'nome': 'Aluno 08', 'curso': 'Ciências da Computação', 'AV1':10 })\n",
    "alunos.append({'nome': 'Aluno 09', 'curso': 'Ciências da Computação', 'AV1':10 })\n",
    "alunos.append({'nome': 'Aluno 10', 'curso': 'Ciências da Computação', 'AV1':4 })\n",
    "alunos.append({'nome': 'Aluno 11', 'curso': 'Análise e Desenvolvimento de Sistemas', 'AV1':5 })\n",
    "alunos.append({'nome': 'Aluno 11', 'curso': 'Análise e Desenvolvimento de Sistemas', 'AV1':5 })\n",
    "alunos.append({'nome': 'Aluno 12', 'curso': 'Análise e Desenvolvimento de Sistemas', 'AV1':9 })\n",
    "alunos.append({'nome': 'Aluno 13', 'curso': 'Análise e Desenvolvimento de Sistemas', 'AV1':9 })\n",
    "alunos.append({'nome': 'Aluno 14', 'curso': 'Ciências da Computação', 'AV1': 7})\n",
    "alunos.append({'nome': 'Aluno 15', 'curso': 'Análise e Desenvolvimento de Sistemas', 'AV1':7})\n",
    "alunos.append({'nome': 'Aluno 16', 'curso': 'Ciências da Computação', 'AV1': 6})\n",
    "alunos.append({'nome': 'Aluno 17', 'curso': 'Análise e Desenvolvimento de Sistemas', 'AV1':8 })\n",
    "alunos.append({'nome': 'Aluno 18', 'curso': 'Ciências da Computação', 'AV1':4 })\n",
    "alunos.append({'nome': 'Aluno 19', 'curso': 'Sistemas de Informação', 'AV1':2 })\n",
    "alunos.append({'nome': 'Aluno 20', 'curso': 'Análise e Desenvolvimento de Sistemas', 'AV1':9 })\n",
    "\n",
    "alunos[2]['curso']"
   ]
  },
  {
   "cell_type": "code",
   "execution_count": 59,
   "metadata": {},
   "outputs": [],
   "source": [
    "def soma_sum(alunos, curso, geral):\n",
    "    acumulador = 0\n",
    "    if geral == 1:\n",
    "        for k, v in enumerate(alunos):\n",
    "            if alunos[k]['curso'] == curso:\n",
    "                acumulador += alunos[k]['AV1']\n",
    "    elif geral == 0:\n",
    "        for k, v in enumerate(alunos):\n",
    "            acumulador += alunos[k]['AV1']\n",
    "    return acumulador\n",
    "\n",
    "def minimo(alunos, curso, geral):\n",
    "    minimo = alunos[0]['AV1']\n",
    "    if geral == 1:\n",
    "        for k, v in enumerate(alunos):\n",
    "            if alunos[k]['curso'] == curso:\n",
    "                if alunos[k]['AV1'] < minimo:\n",
    "                    minimo = alunos[k]['AV1']\n",
    "    elif geral == 0:\n",
    "        for k, v in enumerate(alunos):\n",
    "            if alunos[k]['AV1'] < minimo:\n",
    "                minimo = alunos[k]['AV1']\n",
    "    return minimo\n",
    "\n",
    "def maximo(alunos, curso, geral):\n",
    "    maximo = 1\n",
    "    if geral == 0:\n",
    "        for k, v in enumerate(alunos):\n",
    "            if alunos[k]['AV1'] > maximo:\n",
    "                maximo = alunos[k]['AV1']\n",
    "    elif geral == 1:\n",
    "        for k, v in enumerate(alunos):\n",
    "            if alunos[k]['curso'] == curso:\n",
    "                if alunos[k]['AV1'] > maximo:\n",
    "                    maximo = alunos[k]['AV1']\n",
    "    return maximo\n",
    "\n",
    "def media(alunos, curso, geral):\n",
    "    media = 0\n",
    "    cont = 0\n",
    "    if geral == 0:\n",
    "        for k, v in enumerate(alunos):\n",
    "            media += alunos[k]['AV1']\n",
    "            cont += 1\n",
    "    elif geral == 1:\n",
    "        for k, v in enumerate(alunos):\n",
    "            if alunos[k]['curso'] == curso:\n",
    "                media += alunos[k]['AV1']\n",
    "                cont += 1\n",
    "    \n",
    "    return media/cont\n",
    "\n",
    "def listando_valores(aluno, curso):\n",
    "    lista = []\n",
    "    acumulador = 0\n",
    "    for k, v in enumerate(alunos):\n",
    "        if alunos[k]['curso'] == curso:\n",
    "            acumulador = alunos[k]['AV1']\n",
    "            lista.append(acumulador)\n",
    "    return lista"
   ]
  },
  {
   "cell_type": "code",
   "execution_count": 69,
   "metadata": {},
   "outputs": [
    {
     "name": "stdout",
     "output_type": "stream",
     "text": [
      "Notas gerais--------\n",
      "Soma consecutiva: 27\n",
      "A maior nota é: 10\n",
      "A menor nota é: 2\n",
      "A média da nota é: 6.86\n"
     ]
    }
   ],
   "source": [
    "print('Notas gerais--------')\n",
    "print(\"Soma consecutiva: {}\".format(soma_sum(alunos, _, 1)))\n",
    "print('A maior nota é: {}'.format(maximo(alunos, _, 0)))\n",
    "print('A menor nota é: {}'.format(minimo(alunos,_, 0)))\n",
    "print('A média da nota é: {}'.format( round(media(alunos,'Análise e Desenvolvimento de Sistemas', 0) , 2)))"
   ]
  },
  {
   "cell_type": "code",
   "execution_count": 5,
   "metadata": {},
   "outputs": [
    {
     "name": "stdout",
     "output_type": "stream",
     "text": [
      "2a - Ciências da Computação\n",
      "A maior nota é: 10\n",
      "A menor nota é: 4\n",
      "A média da nota é: 7.0\n"
     ]
    }
   ],
   "source": [
    "print('2a - Ciências da Computação')\n",
    "print('A maior nota é: {}'.format(maximo(alunos, 'Ciências da Computação', 1)))\n",
    "print('A menor nota é: {}'.format(minimo(alunos,'Ciências da Computação', 1)))\n",
    "print('A média da nota é: {}'.format( round(media(alunos,'Ciências da Computação', 1) , 2)))"
   ]
  },
  {
   "cell_type": "code",
   "execution_count": 68,
   "metadata": {},
   "outputs": [
    {
     "name": "stdout",
     "output_type": "stream",
     "text": [
      "2b - Análise\n",
      "A maior nota é: 9\n",
      "A menor nota é: 5\n",
      "A média da nota é: 7.56\n"
     ]
    }
   ],
   "source": [
    "print('2b - Análise')\n",
    "print('A maior nota é: {}'.format(maximo(alunos, 'Análise e Desenvolvimento de Sistemas', 1)))\n",
    "print('A menor nota é: {}'.format(minimo(alunos,'Análise e Desenvolvimento de Sistemas', 1)))\n",
    "print('A média da nota é: {}'.format( round(media(alunos,'Análise e Desenvolvimento de Sistemas', 1) , 2)))"
   ]
  },
  {
   "cell_type": "code",
   "execution_count": 7,
   "metadata": {},
   "outputs": [
    {
     "name": "stdout",
     "output_type": "stream",
     "text": [
      "2c - Sistemas de Informação\n",
      "A maior nota é: 7\n",
      "A menor nota é: 2\n",
      "A média da nota é: 5.4\n"
     ]
    }
   ],
   "source": [
    "print('2c - Sistemas de Informação')\n",
    "print('A maior nota é: {}'.format(maximo(alunos, 'Sistemas de Informação', 1)))\n",
    "print('A menor nota é: {}'.format(minimo(alunos,'Sistemas de Informação', 1)))\n",
    "print('A média da nota é: {}'.format( round(media(alunos,'Sistemas de Informação', 1) , 2)))"
   ]
  },
  {
   "cell_type": "code",
   "execution_count": 62,
   "metadata": {},
   "outputs": [
    {
     "name": "stdout",
     "output_type": "stream",
     "text": [
      "Desafio\n",
      "Curso: Análise e Desenvolvimento de Sistemas [7, 9, 5, 5, 9, 9, 7, 8, 9]\n",
      "A maior nota é: 9\n",
      "A menor nota é: 5\n",
      "A média da nota é: 7.56\n"
     ]
    }
   ],
   "source": [
    "print('Desafio')\n",
    "print('Curso: Análise e Desenvolvimento de Sistemas {}'.format(listando_valores(alunos, 'Análise e Desenvolvimento de Sistemas')))\n",
    "print('A maior nota é: {}'.format(maximo(alunos, 'Análise e Desenvolvimento de Sistemas', 1)))\n",
    "print('A menor nota é: {}'.format(minimo(alunos,'Análise e Desenvolvimento de Sistemas', 1)))\n",
    "print('A média da nota é: {}'.format( round(media(alunos,'Análise e Desenvolvimento de Sistemas', 1) , 2)))"
   ]
  },
  {
   "cell_type": "code",
   "execution_count": 64,
   "metadata": {},
   "outputs": [
    {
     "name": "stdout",
     "output_type": "stream",
     "text": [
      "Curso: Ciências da Computação [8, 10, 10, 4, 7, 6, 4]\n",
      "A maior nota é: 10\n",
      "A menor nota é: 4\n",
      "A média da nota é: 7.0\n"
     ]
    }
   ],
   "source": [
    "print('Curso: Ciências da Computação {}'.format(listando_valores(alunos, 'Ciências da Computação')))\n",
    "print('A maior nota é: {}'.format(maximo(alunos, 'Ciências da Computação', 1)))\n",
    "print('A menor nota é: {}'.format(minimo(alunos,'Ciências da Computação', 1)))\n",
    "print('A média da nota é: {}'.format( round(media(alunos,'Ciências da Computação', 1) , 2)))"
   ]
  },
  {
   "cell_type": "code",
   "execution_count": 66,
   "metadata": {},
   "outputs": [
    {
     "name": "stdout",
     "output_type": "stream",
     "text": [
      "Curso: Sistemas de Informação [7, 6, 6, 6, 2]\n",
      "A maior nota é: 7\n",
      "A menor nota é: 2\n",
      "A média da nota é: 5.4\n"
     ]
    }
   ],
   "source": [
    "print('Curso: Sistemas de Informação {}'.format(listando_valores(alunos, 'Sistemas de Informação')))\n",
    "print('A maior nota é: {}'.format(maximo(alunos, 'Sistemas de Informação', 1)))\n",
    "print('A menor nota é: {}'.format(minimo(alunos,'Sistemas de Informação', 1)))\n",
    "print('A média da nota é: {}'.format( round(media(alunos,'Sistemas de Informação', 1) , 2)))"
   ]
  },
  {
   "cell_type": "code",
   "execution_count": null,
   "metadata": {},
   "outputs": [],
   "source": []
  }
 ],
 "metadata": {
  "kernelspec": {
   "display_name": "Python 3",
   "language": "python",
   "name": "python3"
  },
  "language_info": {
   "codemirror_mode": {
    "name": "ipython",
    "version": 3
   },
   "file_extension": ".py",
   "mimetype": "text/x-python",
   "name": "python",
   "nbconvert_exporter": "python",
   "pygments_lexer": "ipython3",
   "version": "3.8.5"
  }
 },
 "nbformat": 4,
 "nbformat_minor": 4
}
