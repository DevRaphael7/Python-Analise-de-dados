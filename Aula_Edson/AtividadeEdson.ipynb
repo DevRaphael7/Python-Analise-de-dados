{
 "cells": [
  {
   "cell_type": "code",
   "execution_count": 2,
   "metadata": {},
   "outputs": [],
   "source": [
    "alunos = []\n",
    "alunos.append({'nome': 'Aluno 01', 'curso': 'Ciências da Computação', 'AV1':8 })\n",
    "alunos.append({'nome': 'Aluno 02', 'curso': 'Sistemas de Informação', 'AV1':7 })\n",
    "alunos.append({'nome': 'Aluno 03', 'curso': 'Sistemas de Informação', 'AV1':6 })\n",
    "alunos.append({'nome': 'Aluno 04', 'curso': 'Sistemas de Informação', 'AV1':6 })\n",
    "alunos.append({'nome': 'Aluno 05', 'curso': 'Sistemas de Informação', 'AV1':6 })\n",
    "alunos.append({'nome': 'Aluno 06', 'curso': 'Análise e Desenvolvimento de Sistemas', 'AV1':7 })\n",
    "alunos.append({'nome': 'Aluno 07', 'curso': 'Análise e Desenvolvimento de Sistemas', 'AV1':9 })\n",
    "alunos.append({'nome': 'Aluno 08', 'curso': 'Ciências da Computação', 'AV1':10 })\n",
    "alunos.append({'nome': 'Aluno 09', 'curso': 'Ciências da Computação', 'AV1':10 })\n",
    "alunos.append({'nome': 'Aluno 10', 'curso': 'Ciências da Computação', 'AV1':4 })\n",
    "alunos.append({'nome': 'Aluno 11', 'curso': 'Análise e Desenvolvimento de Sistemas', 'AV1':5 })\n",
    "alunos.append({'nome': 'Aluno 11', 'curso': 'Análise e Desenvolvimento de Sistemas', 'AV1':5 })\n",
    "alunos.append({'nome': 'Aluno 12', 'curso': 'Análise e Desenvolvimento de Sistemas', 'AV1':9 })\n",
    "alunos.append({'nome': 'Aluno 13', 'curso': 'Análise e Desenvolvimento de Sistemas', 'AV1':9 })\n",
    "alunos.append({'nome': 'Aluno 14', 'curso': 'Ciências da Computação', 'AV1': 7})\n",
    "alunos.append({'nome': 'Aluno 15', 'curso': 'Análise e Desenvolvimento de Sistemas', 'AV1':7})\n",
    "alunos.append({'nome': 'Aluno 16', 'curso': 'Ciências da Computação', 'AV1': 6})\n",
    "alunos.append({'nome': 'Aluno 17', 'curso': 'Análise e Desenvolvimento de Sistemas', 'AV1':8 })\n",
    "alunos.append({'nome': 'Aluno 18', 'curso': 'Ciências da Computação', 'AV1':4 })\n",
    "alunos.append({'nome': 'Aluno 19', 'curso': 'Sistemas de Informação', 'AV1':2 })\n",
    "alunos.append({'nome': 'Aluno 20', 'curso': 'Análise e Desenvolvimento de Sistemas', 'AV1':9 })"
   ]
  },
  {
   "cell_type": "code",
   "execution_count": 6,
   "metadata": {},
   "outputs": [
    {
     "name": "stdout",
     "output_type": "stream",
     "text": [
      "Notas gerais--------\n",
      "A maior nota é: 10\n",
      "A menor nota é: 2\n",
      "A média da nota é: 8.0\n"
     ]
    }
   ],
   "source": [
    "def soma_sum(alunos):\n",
    "    acumulador = 0\n",
    "    for k, v in enumerate(alunos):\n",
    "        acumulador += alunos[k]['AV1']\n",
    "    return acumulador\n",
    "\n",
    "soma_sum(alunos)\n",
    "\n",
    "def minimo(alunos):\n",
    "    minimo = alunos[0]['AV1']\n",
    "    for k, v in enumerate(alunos):\n",
    "        if alunos[k]['AV1'] < minimo:\n",
    "            minimo = alunos[k]['AV1']\n",
    "    return minimo\n",
    "\n",
    "minimo(alunos)\n",
    "\n",
    "def maximo(alunos):\n",
    "    maximo = alunos[0]['AV1']\n",
    "    for k, v in enumerate(alunos):\n",
    "        if alunos[k]['AV1'] > maximo:\n",
    "            maximo = alunos[k]['AV1'] \n",
    "    return maximo\n",
    "\n",
    "def media(alunos):\n",
    "    media = 0\n",
    "    for k, v in enumerate(alunos):\n",
    "            media += alunos[0]['AV1']\n",
    "    return media / len(alunos)\n",
    "media(alunos)\n",
    "        \n",
    "\n",
    "print('Notas gerais--------')\n",
    "print('A maior nota é: {}'.format(maximo(alunos)))\n",
    "print('A menor nota é: {}'.format(minimo(alunos)))\n",
    "print('A média da nota é: {}'.format(media(alunos)))"
   ]
  },
  {
   "cell_type": "code",
   "execution_count": null,
   "metadata": {},
   "outputs": [],
   "source": []
  }
 ],
 "metadata": {
  "kernelspec": {
   "display_name": "Python 3",
   "language": "python",
   "name": "python3"
  },
  "language_info": {
   "codemirror_mode": {
    "name": "ipython",
    "version": 3
   },
   "file_extension": ".py",
   "mimetype": "text/x-python",
   "name": "python",
   "nbconvert_exporter": "python",
   "pygments_lexer": "ipython3",
   "version": "3.8.5"
  }
 },
 "nbformat": 4,
 "nbformat_minor": 4
}
